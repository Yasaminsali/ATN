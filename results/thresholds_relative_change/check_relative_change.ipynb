{
 "cells": [
  {
   "cell_type": "markdown",
   "id": "b7736e30",
   "metadata": {},
   "source": [
    "### Imports"
   ]
  },
  {
   "cell_type": "code",
   "execution_count": 76,
   "id": "f22643f7",
   "metadata": {},
   "outputs": [],
   "source": [
    "import pandas as pd\n",
    "import numpy as np\n",
    "import glob\n",
    "import copy\n",
    "import os"
   ]
  },
  {
   "cell_type": "markdown",
   "id": "5e732f8f",
   "metadata": {},
   "source": [
    "### Read the thresholds table"
   ]
  },
  {
   "cell_type": "code",
   "execution_count": 77,
   "id": "47601c5f",
   "metadata": {},
   "outputs": [],
   "source": [
    "thresholds = pd.read_csv(\"cutpoint_values - thresholds.csv\", index_col=0)\n",
    "# replace - with nan\n",
    "thresholds.replace({\"-\": np.nan}, inplace=True)"
   ]
  },
  {
   "cell_type": "markdown",
   "id": "4f8be8a5",
   "metadata": {},
   "source": [
    "### Read cohorts"
   ]
  },
  {
   "cell_type": "code",
   "execution_count": 78,
   "id": "f3e59d88",
   "metadata": {},
   "outputs": [],
   "source": [
    "# datasets = [pd.read_csv(file, index_col=0, low_memory=False) for file in sorted(glob.glob('../../cohort_studies_full_data/' + \"/*.\"+'csv'))]\n",
    "# cohorts = [file.split(\".\")[0] for file in sorted(os.listdir('../../cohort_studies_full_data/'))]"
   ]
  },
  {
   "cell_type": "code",
   "execution_count": 79,
   "id": "934f7600",
   "metadata": {},
   "outputs": [],
   "source": [
    "# # make a dictionary that contains all cohorts as a dataframe\n",
    "# cohort_studies = dict()\n",
    "# # dfsss = dict()\n",
    "\n",
    "# for cohort, dataset in zip(cohorts, datasets):\n",
    "#     cohort_n = cohort.split(\"_MERGE\")[0]\n",
    "#     cohort_studies[cohort_n] = dataset.loc[dataset['Months']==0].copy() # reduce to BL visit"
   ]
  },
  {
   "cell_type": "code",
   "execution_count": 80,
   "id": "58f9f27f",
   "metadata": {},
   "outputs": [],
   "source": [
    "# select_coh = dict()\n",
    "\n",
    "# for i in thresholds.index:\n",
    "#     if i==\"NACC_ELISA\" or i==\"NACC_XMAP\":\n",
    "#         select_coh['NACC'] = cohort_studies['NACC']\n",
    "        \n",
    "#     elif i==\"EMIF_ELISA\" or i==\"EMIF_XMAP\":\n",
    "#         select_coh['EMIF'] = cohort_studies['EMIF']\n",
    "        \n",
    "#     else:\n",
    "#         select_coh[i] = cohort_studies[i]"
   ]
  },
  {
   "cell_type": "markdown",
   "id": "c041b663",
   "metadata": {},
   "source": [
    "### Read mapping tables"
   ]
  },
  {
   "cell_type": "code",
   "execution_count": 81,
   "id": "d28a4223",
   "metadata": {},
   "outputs": [],
   "source": [
    "# modality = [pd.read_csv(file, sep=',') for file in sorted(glob.glob('../../feature_tables' + \"/*.\"+'csv'))]\n",
    "# name = [file.split(\".\")[0] for file in sorted(os.listdir('../../feature_tables'))]"
   ]
  },
  {
   "cell_type": "code",
   "execution_count": 82,
   "id": "0b03a8ec",
   "metadata": {},
   "outputs": [],
   "source": [
    "# # make a dictionary that contains all modalities as a dataframe\n",
    "# mappings = dict()\n",
    "\n",
    "# for moda, na in zip(modality, name):\n",
    "#     mappings[na.split(' - ')[1]] = moda"
   ]
  },
  {
   "cell_type": "markdown",
   "id": "7229eb74",
   "metadata": {},
   "source": [
    "### select patients with CSF measurements"
   ]
  },
  {
   "cell_type": "code",
   "execution_count": 49,
   "id": "66626889",
   "metadata": {},
   "outputs": [],
   "source": [
    "# for i in select_coh:\n",
    "#     select_coh[i].dropna(subset=mappings['csf'][i].iloc[:3].to_list(), inplace=True)"
   ]
  },
  {
   "cell_type": "code",
   "execution_count": 54,
   "id": "d5e3c3fd",
   "metadata": {},
   "outputs": [],
   "source": [
    "# # divide patients with different assays \n",
    "# select_coh['NACC_ELISA'] = select_coh['NACC'].loc[select_coh[i]['CSFTTMD']==1]\n",
    "# select_coh['NACC_XMAP'] = select_coh['NACC'].loc[select_coh[i]['CSFTTMD']==2]\n",
    "# select_coh['EMIF_ELISA'] = select_coh['EMIF'].loc[~(select_coh['EMIF']['Studyname'].isin(['EDAR', 'Leuven']))]\n",
    "# select_coh['EMIF_XMAP'] = select_coh['EMIF'].loc[(select_coh['EMIF']['Studyname'].isin(['EDAR', 'Leuven']))]"
   ]
  },
  {
   "cell_type": "code",
   "execution_count": 58,
   "id": "2b3b5802",
   "metadata": {},
   "outputs": [
    {
     "name": "stdout",
     "output_type": "stream",
     "text": [
      "ADNI 1017\n",
      "EPAD 1237\n",
      "AIBL 57\n",
      "ARWIBO 217\n",
      "EDSD 86\n",
      "PharmaCog 145\n",
      "PREVENT-AD 133\n",
      "NACC 506\n",
      "EMIF 1014\n",
      "DOD-ADNI 113\n",
      "JADNI 197\n",
      "NACC_ELISA 205\n",
      "NACC_XMAP 301\n",
      "EMIF_ELISA 811\n",
      "EMIF_XMAP 203\n"
     ]
    }
   ],
   "source": [
    "# for i in select_coh:\n",
    "#     print(i, len(select_coh[i].index))"
   ]
  },
  {
   "cell_type": "markdown",
   "id": "4c893806",
   "metadata": {},
   "source": [
    "### Calculate the relative change amon thresholds for each biomarker in each cohort"
   ]
  },
  {
   "cell_type": "code",
   "execution_count": 91,
   "id": "f1e11cdc",
   "metadata": {},
   "outputs": [],
   "source": [
    "# change the type of values into float and round the values by one decimal\n",
    "thresholds = thresholds.astype(float).round(1)\n",
    "# make a df to store the results\n",
    "change_df = pd.DataFrame(index=thresholds.index, columns=['Aβ1-42', 'pTau', 'tTau'])\n",
    "change_max = pd.DataFrame(index=thresholds.index, columns=['Aβ1-42', 'pTau', 'tTau'])\n",
    "\n",
    "# for each cohort dataset check which methods were performed and make a list of method for each biomarker\n",
    "for i in thresholds.index:\n",
    "    ab, pt, tt = [], [], []\n",
    "    df = pd.DataFrame(thresholds.loc[i]).transpose().dropna(axis=1)\n",
    "\n",
    "    for col in df.columns:\n",
    "        if \"Aβ\" in col: \n",
    "            ab.append(col)\n",
    "\n",
    "        elif 'pTau' in col:\n",
    "            pt.append(col)\n",
    "\n",
    "        else:\n",
    "            tt.append(col)\n",
    "                   \n",
    "    # find the maximum threshold for abeta \n",
    "    max_ab = float(df.loc[i, df[ab].astype(float).idxmax(axis=1)].item())\n",
    "    # find the minimum threshold for abeta\n",
    "    min_ab = float(df.loc[i, df[ab].astype(float).idxmin(axis=1)].item()) \n",
    "    # calculate the relative change (max - min / max) among abeta thresholds\n",
    "    change_df.loc[i, 'Aβ1-42'] = round(((max_ab - min_ab) / max_ab) * 100, 2) \n",
    "    change_max.loc[i, 'Aβ1-42'] = max_ab\n",
    "    \n",
    "    # find the maximum threshold for ptau \n",
    "    max_pt = float(df.loc[i, df[pt].astype(float).idxmax(axis=1)].item())\n",
    "    # find the minimum threshold for ptau\n",
    "    min_pt = float(df.loc[i, df[pt].astype(float).idxmin(axis=1)].item())\n",
    "    # calculate the relative change (max - min / max) among ptau thresholds\n",
    "    change_df.loc[i, 'pTau'] = round(((max_pt - min_pt) / max_pt) * 100, 2)  \n",
    "    change_max.loc[i, 'pTau'] = max_pt\n",
    "    \n",
    "    # find the maximum threshold for ttau \n",
    "    max_tt = float(df.loc[i, df[tt].astype(float).idxmax(axis=1)].item())\n",
    "    # find the minimum threshold for ttau\n",
    "    min_tt = float(df.loc[i, df[tt].astype(float).idxmin(axis=1)].item())\n",
    "    # calculate the relative change (max - min / max) among ttau thresholds\n",
    "    change_df.loc[i, 'tTau'] = round(((max_tt - min_tt) / max_tt) * 100, 2)\n",
    "    change_max.loc[i, 'tTau'] = max_tt"
   ]
  },
  {
   "cell_type": "code",
   "execution_count": 92,
   "id": "f31e2a05",
   "metadata": {},
   "outputs": [
    {
     "data": {
      "text/plain": [
       "['tTau_GMM', 'tTau_K-Means', 'tTau_Tertile', 'tTau_ROC', 'tTau_Mean ±2 SD']"
      ]
     },
     "execution_count": 92,
     "metadata": {},
     "output_type": "execute_result"
    }
   ],
   "source": [
    "tt"
   ]
  },
  {
   "cell_type": "code",
   "execution_count": 93,
   "id": "6795d3e1",
   "metadata": {},
   "outputs": [
    {
     "data": {
      "text/html": [
       "<div>\n",
       "<style scoped>\n",
       "    .dataframe tbody tr th:only-of-type {\n",
       "        vertical-align: middle;\n",
       "    }\n",
       "\n",
       "    .dataframe tbody tr th {\n",
       "        vertical-align: top;\n",
       "    }\n",
       "\n",
       "    .dataframe thead th {\n",
       "        text-align: right;\n",
       "    }\n",
       "</style>\n",
       "<table border=\"1\" class=\"dataframe\">\n",
       "  <thead>\n",
       "    <tr style=\"text-align: right;\">\n",
       "      <th></th>\n",
       "      <th>Aβ1-42</th>\n",
       "      <th>pTau</th>\n",
       "      <th>tTau</th>\n",
       "    </tr>\n",
       "    <tr>\n",
       "      <th>Cohort</th>\n",
       "      <th></th>\n",
       "      <th></th>\n",
       "      <th></th>\n",
       "    </tr>\n",
       "  </thead>\n",
       "  <tbody>\n",
       "    <tr>\n",
       "      <th>ADNI</th>\n",
       "      <td>71.45</td>\n",
       "      <td>47.43</td>\n",
       "      <td>41.3</td>\n",
       "    </tr>\n",
       "    <tr>\n",
       "      <th>EPAD</th>\n",
       "      <td>67.35</td>\n",
       "      <td>54.27</td>\n",
       "      <td>51.01</td>\n",
       "    </tr>\n",
       "    <tr>\n",
       "      <th>AIBL</th>\n",
       "      <td>3.43</td>\n",
       "      <td>16.09</td>\n",
       "      <td>6.89</td>\n",
       "    </tr>\n",
       "    <tr>\n",
       "      <th>ARWIBO</th>\n",
       "      <td>11.2</td>\n",
       "      <td>45.17</td>\n",
       "      <td>18.6</td>\n",
       "    </tr>\n",
       "    <tr>\n",
       "      <th>EDSD</th>\n",
       "      <td>6.74</td>\n",
       "      <td>26.86</td>\n",
       "      <td>7.27</td>\n",
       "    </tr>\n",
       "    <tr>\n",
       "      <th>PharmaCog</th>\n",
       "      <td>0.77</td>\n",
       "      <td>28.89</td>\n",
       "      <td>26.13</td>\n",
       "    </tr>\n",
       "    <tr>\n",
       "      <th>PREVENT-AD</th>\n",
       "      <td>48.85</td>\n",
       "      <td>43.86</td>\n",
       "      <td>49.57</td>\n",
       "    </tr>\n",
       "    <tr>\n",
       "      <th>NACC_ELISA</th>\n",
       "      <td>53.66</td>\n",
       "      <td>45.45</td>\n",
       "      <td>48.33</td>\n",
       "    </tr>\n",
       "    <tr>\n",
       "      <th>EMIF_ELISA</th>\n",
       "      <td>76.32</td>\n",
       "      <td>45.22</td>\n",
       "      <td>59.76</td>\n",
       "    </tr>\n",
       "    <tr>\n",
       "      <th>NACC_XMAP</th>\n",
       "      <td>92.7</td>\n",
       "      <td>47.62</td>\n",
       "      <td>46.04</td>\n",
       "    </tr>\n",
       "    <tr>\n",
       "      <th>EMIF_XMAP</th>\n",
       "      <td>46.8</td>\n",
       "      <td>48.01</td>\n",
       "      <td>59.26</td>\n",
       "    </tr>\n",
       "    <tr>\n",
       "      <th>DOD-ADNI</th>\n",
       "      <td>77.87</td>\n",
       "      <td>42.27</td>\n",
       "      <td>38.09</td>\n",
       "    </tr>\n",
       "    <tr>\n",
       "      <th>JADNI</th>\n",
       "      <td>55.12</td>\n",
       "      <td>41.24</td>\n",
       "      <td>50.48</td>\n",
       "    </tr>\n",
       "  </tbody>\n",
       "</table>\n",
       "</div>"
      ],
      "text/plain": [
       "           Aβ1-42   pTau   tTau\n",
       "Cohort                         \n",
       "ADNI        71.45  47.43   41.3\n",
       "EPAD        67.35  54.27  51.01\n",
       "AIBL         3.43  16.09   6.89\n",
       "ARWIBO       11.2  45.17   18.6\n",
       "EDSD         6.74  26.86   7.27\n",
       "PharmaCog    0.77  28.89  26.13\n",
       "PREVENT-AD  48.85  43.86  49.57\n",
       "NACC_ELISA  53.66  45.45  48.33\n",
       "EMIF_ELISA  76.32  45.22  59.76\n",
       "NACC_XMAP    92.7  47.62  46.04\n",
       "EMIF_XMAP    46.8  48.01  59.26\n",
       "DOD-ADNI    77.87  42.27  38.09\n",
       "JADNI       55.12  41.24  50.48"
      ]
     },
     "execution_count": 93,
     "metadata": {},
     "output_type": "execute_result"
    }
   ],
   "source": [
    "change_df"
   ]
  },
  {
   "cell_type": "code",
   "execution_count": 96,
   "id": "6c0404a0",
   "metadata": {},
   "outputs": [],
   "source": [
    "change_df_subset = change_df.drop(index=['AIBL', 'ARWIBO', 'EDSD', 'PharmaCog'])\n",
    "change_max_subset = change_max.drop(index=['AIBL', 'ARWIBO', 'EDSD', 'PharmaCog'])"
   ]
  },
  {
   "cell_type": "code",
   "execution_count": 88,
   "id": "e90cf434",
   "metadata": {},
   "outputs": [],
   "source": [
    "change_df_subset.loc['Average'] = round(change_df_subset.mean(), 2)"
   ]
  },
  {
   "cell_type": "code",
   "execution_count": 90,
   "id": "b38ea143",
   "metadata": {},
   "outputs": [],
   "source": [
    "change_df_subset.to_csv(\"relative_change.csv\")"
   ]
  },
  {
   "cell_type": "code",
   "execution_count": 89,
   "id": "49bd99ff",
   "metadata": {},
   "outputs": [
    {
     "data": {
      "text/html": [
       "<div>\n",
       "<style scoped>\n",
       "    .dataframe tbody tr th:only-of-type {\n",
       "        vertical-align: middle;\n",
       "    }\n",
       "\n",
       "    .dataframe tbody tr th {\n",
       "        vertical-align: top;\n",
       "    }\n",
       "\n",
       "    .dataframe thead th {\n",
       "        text-align: right;\n",
       "    }\n",
       "</style>\n",
       "<table border=\"1\" class=\"dataframe\">\n",
       "  <thead>\n",
       "    <tr style=\"text-align: right;\">\n",
       "      <th></th>\n",
       "      <th>Aβ1-42</th>\n",
       "      <th>pTau</th>\n",
       "      <th>tTau</th>\n",
       "    </tr>\n",
       "    <tr>\n",
       "      <th>Cohort</th>\n",
       "      <th></th>\n",
       "      <th></th>\n",
       "      <th></th>\n",
       "    </tr>\n",
       "  </thead>\n",
       "  <tbody>\n",
       "    <tr>\n",
       "      <th>ADNI</th>\n",
       "      <td>71.45</td>\n",
       "      <td>47.43</td>\n",
       "      <td>41.3</td>\n",
       "    </tr>\n",
       "    <tr>\n",
       "      <th>EPAD</th>\n",
       "      <td>67.35</td>\n",
       "      <td>54.27</td>\n",
       "      <td>51.01</td>\n",
       "    </tr>\n",
       "    <tr>\n",
       "      <th>PREVENT-AD</th>\n",
       "      <td>48.85</td>\n",
       "      <td>43.86</td>\n",
       "      <td>49.57</td>\n",
       "    </tr>\n",
       "    <tr>\n",
       "      <th>NACC_ELISA</th>\n",
       "      <td>53.66</td>\n",
       "      <td>45.45</td>\n",
       "      <td>48.33</td>\n",
       "    </tr>\n",
       "    <tr>\n",
       "      <th>EMIF_ELISA</th>\n",
       "      <td>76.32</td>\n",
       "      <td>45.22</td>\n",
       "      <td>59.76</td>\n",
       "    </tr>\n",
       "    <tr>\n",
       "      <th>NACC_XMAP</th>\n",
       "      <td>92.7</td>\n",
       "      <td>47.62</td>\n",
       "      <td>46.04</td>\n",
       "    </tr>\n",
       "    <tr>\n",
       "      <th>EMIF_XMAP</th>\n",
       "      <td>46.8</td>\n",
       "      <td>48.01</td>\n",
       "      <td>59.26</td>\n",
       "    </tr>\n",
       "    <tr>\n",
       "      <th>DOD-ADNI</th>\n",
       "      <td>77.87</td>\n",
       "      <td>42.27</td>\n",
       "      <td>38.09</td>\n",
       "    </tr>\n",
       "    <tr>\n",
       "      <th>JADNI</th>\n",
       "      <td>55.12</td>\n",
       "      <td>41.24</td>\n",
       "      <td>50.48</td>\n",
       "    </tr>\n",
       "    <tr>\n",
       "      <th>Average</th>\n",
       "      <td>65.57</td>\n",
       "      <td>46.15</td>\n",
       "      <td>49.32</td>\n",
       "    </tr>\n",
       "  </tbody>\n",
       "</table>\n",
       "</div>"
      ],
      "text/plain": [
       "           Aβ1-42   pTau   tTau\n",
       "Cohort                         \n",
       "ADNI        71.45  47.43   41.3\n",
       "EPAD        67.35  54.27  51.01\n",
       "PREVENT-AD  48.85  43.86  49.57\n",
       "NACC_ELISA  53.66  45.45  48.33\n",
       "EMIF_ELISA  76.32  45.22  59.76\n",
       "NACC_XMAP    92.7  47.62  46.04\n",
       "EMIF_XMAP    46.8  48.01  59.26\n",
       "DOD-ADNI    77.87  42.27  38.09\n",
       "JADNI       55.12  41.24  50.48\n",
       "Average     65.57  46.15  49.32"
      ]
     },
     "execution_count": 89,
     "metadata": {},
     "output_type": "execute_result"
    }
   ],
   "source": [
    "change_df_subset"
   ]
  },
  {
   "cell_type": "code",
   "execution_count": 97,
   "id": "6bd98d90",
   "metadata": {},
   "outputs": [
    {
     "data": {
      "text/html": [
       "<div>\n",
       "<style scoped>\n",
       "    .dataframe tbody tr th:only-of-type {\n",
       "        vertical-align: middle;\n",
       "    }\n",
       "\n",
       "    .dataframe tbody tr th {\n",
       "        vertical-align: top;\n",
       "    }\n",
       "\n",
       "    .dataframe thead th {\n",
       "        text-align: right;\n",
       "    }\n",
       "</style>\n",
       "<table border=\"1\" class=\"dataframe\">\n",
       "  <thead>\n",
       "    <tr style=\"text-align: right;\">\n",
       "      <th></th>\n",
       "      <th>Aβ1-42</th>\n",
       "      <th>pTau</th>\n",
       "      <th>tTau</th>\n",
       "    </tr>\n",
       "    <tr>\n",
       "      <th>Cohort</th>\n",
       "      <th></th>\n",
       "      <th></th>\n",
       "      <th></th>\n",
       "    </tr>\n",
       "  </thead>\n",
       "  <tbody>\n",
       "    <tr>\n",
       "      <th>ADNI</th>\n",
       "      <td>983.7</td>\n",
       "      <td>40.9</td>\n",
       "      <td>409.7</td>\n",
       "    </tr>\n",
       "    <tr>\n",
       "      <th>EPAD</th>\n",
       "      <td>1034.9</td>\n",
       "      <td>43.3</td>\n",
       "      <td>436.4</td>\n",
       "    </tr>\n",
       "    <tr>\n",
       "      <th>PREVENT-AD</th>\n",
       "      <td>1150.4</td>\n",
       "      <td>89.6</td>\n",
       "      <td>598.1</td>\n",
       "    </tr>\n",
       "    <tr>\n",
       "      <th>NACC_ELISA</th>\n",
       "      <td>629</td>\n",
       "      <td>88</td>\n",
       "      <td>728.8</td>\n",
       "    </tr>\n",
       "    <tr>\n",
       "      <th>EMIF_ELISA</th>\n",
       "      <td>730.9</td>\n",
       "      <td>95.1</td>\n",
       "      <td>669.4</td>\n",
       "    </tr>\n",
       "    <tr>\n",
       "      <th>NACC_XMAP</th>\n",
       "      <td>298.6</td>\n",
       "      <td>69.3</td>\n",
       "      <td>99.7</td>\n",
       "    </tr>\n",
       "    <tr>\n",
       "      <th>EMIF_XMAP</th>\n",
       "      <td>450.2</td>\n",
       "      <td>55.2</td>\n",
       "      <td>204.2</td>\n",
       "    </tr>\n",
       "    <tr>\n",
       "      <th>DOD-ADNI</th>\n",
       "      <td>1276</td>\n",
       "      <td>34.3</td>\n",
       "      <td>369.9</td>\n",
       "    </tr>\n",
       "    <tr>\n",
       "      <th>JADNI</th>\n",
       "      <td>416.4</td>\n",
       "      <td>66.2</td>\n",
       "      <td>145.8</td>\n",
       "    </tr>\n",
       "  </tbody>\n",
       "</table>\n",
       "</div>"
      ],
      "text/plain": [
       "            Aβ1-42  pTau   tTau\n",
       "Cohort                         \n",
       "ADNI         983.7  40.9  409.7\n",
       "EPAD        1034.9  43.3  436.4\n",
       "PREVENT-AD  1150.4  89.6  598.1\n",
       "NACC_ELISA     629    88  728.8\n",
       "EMIF_ELISA   730.9  95.1  669.4\n",
       "NACC_XMAP    298.6  69.3   99.7\n",
       "EMIF_XMAP    450.2  55.2  204.2\n",
       "DOD-ADNI      1276  34.3  369.9\n",
       "JADNI        416.4  66.2  145.8"
      ]
     },
     "execution_count": 97,
     "metadata": {},
     "output_type": "execute_result"
    }
   ],
   "source": [
    "change_max_subset"
   ]
  },
  {
   "cell_type": "code",
   "execution_count": 72,
   "id": "c54abcd7",
   "metadata": {},
   "outputs": [
    {
     "data": {
      "text/plain": [
       "55.47"
      ]
     },
     "execution_count": 72,
     "metadata": {},
     "output_type": "execute_result"
    }
   ],
   "source": [
    "# # Roche\n",
    "# np.mean(list(round(change_df.loc[['ADNI', 'EPAD']].mean(), 2)))"
   ]
  },
  {
   "cell_type": "code",
   "execution_count": 69,
   "id": "7de84b0a",
   "metadata": {
    "scrolled": true
   },
   "outputs": [
    {
     "data": {
      "text/plain": [
       "31.86"
      ]
     },
     "execution_count": 69,
     "metadata": {},
     "output_type": "execute_result"
    }
   ],
   "source": [
    "# # INNOTEST\n",
    "# np.mean(round(change_df.loc[['AIBL', 'ARWIBO', 'EDSD', 'PharmaCog', 'PREVENT-AD', 'NACC_ELISA', 'EMIF_ELISA']].mean(), 2))"
   ]
  },
  {
   "cell_type": "code",
   "execution_count": 70,
   "id": "2bbf5731",
   "metadata": {},
   "outputs": [
    {
     "data": {
      "text/plain": [
       "53.79"
      ]
     },
     "execution_count": 70,
     "metadata": {},
     "output_type": "execute_result"
    }
   ],
   "source": [
    "# # xMAP\n",
    "# np.mean(round(change_df.loc[['NACC_XMAP', 'EMIF_XMAP', 'DOD-ADNI', 'JADNI']].mean(), 2))"
   ]
  },
  {
   "cell_type": "code",
   "execution_count": 76,
   "id": "bab2093b",
   "metadata": {},
   "outputs": [
    {
     "data": {
      "text/plain": [
       "42.24"
      ]
     },
     "execution_count": 76,
     "metadata": {},
     "output_type": "execute_result"
    }
   ],
   "source": [
    "# change_df.loc['Average'].mean()"
   ]
  },
  {
   "cell_type": "code",
   "execution_count": 7,
   "id": "97ec96fc",
   "metadata": {},
   "outputs": [],
   "source": [
    "# thresholds.replace({np.nan: \"-\"}).to_csv(\"thresholds_one_decimal.csv\")"
   ]
  },
  {
   "cell_type": "code",
   "execution_count": 9,
   "id": "41bf47e1",
   "metadata": {},
   "outputs": [
    {
     "data": {
      "text/html": [
       "<div>\n",
       "<style scoped>\n",
       "    .dataframe tbody tr th:only-of-type {\n",
       "        vertical-align: middle;\n",
       "    }\n",
       "\n",
       "    .dataframe tbody tr th {\n",
       "        vertical-align: top;\n",
       "    }\n",
       "\n",
       "    .dataframe thead th {\n",
       "        text-align: right;\n",
       "    }\n",
       "</style>\n",
       "<table border=\"1\" class=\"dataframe\">\n",
       "  <thead>\n",
       "    <tr style=\"text-align: right;\">\n",
       "      <th></th>\n",
       "      <th>Aβ1-42_GMM</th>\n",
       "      <th>pTau_GMM</th>\n",
       "      <th>tTau_GMM</th>\n",
       "      <th>Aβ1-42_K-Means</th>\n",
       "      <th>pTau_K-Means</th>\n",
       "      <th>tTau_K-Means</th>\n",
       "      <th>Aβ1-42_Tertile</th>\n",
       "      <th>pTau_Tertile</th>\n",
       "      <th>tTau_Tertile</th>\n",
       "      <th>Aβ1-42_ROC</th>\n",
       "      <th>pTau_ROC</th>\n",
       "      <th>tTau_ROC</th>\n",
       "      <th>Aβ1-42_Mean ±2 SD</th>\n",
       "      <th>pTau_Mean ±2 SD</th>\n",
       "      <th>tTau_Mean ±2 SD</th>\n",
       "    </tr>\n",
       "    <tr>\n",
       "      <th>Cohort</th>\n",
       "      <th></th>\n",
       "      <th></th>\n",
       "      <th></th>\n",
       "      <th></th>\n",
       "      <th></th>\n",
       "      <th></th>\n",
       "      <th></th>\n",
       "      <th></th>\n",
       "      <th></th>\n",
       "      <th></th>\n",
       "      <th></th>\n",
       "      <th></th>\n",
       "      <th></th>\n",
       "      <th></th>\n",
       "      <th></th>\n",
       "    </tr>\n",
       "  </thead>\n",
       "  <tbody>\n",
       "    <tr>\n",
       "      <th>ADNI</th>\n",
       "      <td>983.7</td>\n",
       "      <td>34.3</td>\n",
       "      <td>352.3</td>\n",
       "      <td>973.0</td>\n",
       "      <td>28.1</td>\n",
       "      <td>286.2</td>\n",
       "      <td>832.1</td>\n",
       "      <td>21.5</td>\n",
       "      <td>240.5</td>\n",
       "      <td>801.7</td>\n",
       "      <td>24.2</td>\n",
       "      <td>264.8</td>\n",
       "      <td>280.8</td>\n",
       "      <td>40.9</td>\n",
       "      <td>409.7</td>\n",
       "    </tr>\n",
       "    <tr>\n",
       "      <th>EPAD</th>\n",
       "      <td>1034.9</td>\n",
       "      <td>27.7</td>\n",
       "      <td>306.7</td>\n",
       "      <td>1030.7</td>\n",
       "      <td>19.8</td>\n",
       "      <td>223.7</td>\n",
       "      <td>883.0</td>\n",
       "      <td>19.9</td>\n",
       "      <td>228.3</td>\n",
       "      <td>731.5</td>\n",
       "      <td>20.9</td>\n",
       "      <td>213.8</td>\n",
       "      <td>337.9</td>\n",
       "      <td>43.3</td>\n",
       "      <td>436.4</td>\n",
       "    </tr>\n",
       "    <tr>\n",
       "      <th>AIBL</th>\n",
       "      <td>714.4</td>\n",
       "      <td>92.6</td>\n",
       "      <td>591.5</td>\n",
       "      <td>689.9</td>\n",
       "      <td>77.7</td>\n",
       "      <td>635.3</td>\n",
       "      <td>NaN</td>\n",
       "      <td>NaN</td>\n",
       "      <td>NaN</td>\n",
       "      <td>NaN</td>\n",
       "      <td>NaN</td>\n",
       "      <td>NaN</td>\n",
       "      <td>NaN</td>\n",
       "      <td>NaN</td>\n",
       "      <td>NaN</td>\n",
       "    </tr>\n",
       "    <tr>\n",
       "      <th>ARWIBO</th>\n",
       "      <td>577.5</td>\n",
       "      <td>126.2</td>\n",
       "      <td>499.0</td>\n",
       "      <td>512.8</td>\n",
       "      <td>69.2</td>\n",
       "      <td>406.2</td>\n",
       "      <td>NaN</td>\n",
       "      <td>NaN</td>\n",
       "      <td>NaN</td>\n",
       "      <td>NaN</td>\n",
       "      <td>NaN</td>\n",
       "      <td>NaN</td>\n",
       "      <td>NaN</td>\n",
       "      <td>NaN</td>\n",
       "      <td>NaN</td>\n",
       "    </tr>\n",
       "    <tr>\n",
       "      <th>EDSD</th>\n",
       "      <td>737.5</td>\n",
       "      <td>113.2</td>\n",
       "      <td>535.7</td>\n",
       "      <td>790.8</td>\n",
       "      <td>82.8</td>\n",
       "      <td>577.7</td>\n",
       "      <td>NaN</td>\n",
       "      <td>NaN</td>\n",
       "      <td>NaN</td>\n",
       "      <td>NaN</td>\n",
       "      <td>NaN</td>\n",
       "      <td>NaN</td>\n",
       "      <td>NaN</td>\n",
       "      <td>NaN</td>\n",
       "      <td>NaN</td>\n",
       "    </tr>\n",
       "    <tr>\n",
       "      <th>PharmaCog</th>\n",
       "      <td>779.6</td>\n",
       "      <td>93.1</td>\n",
       "      <td>630.6</td>\n",
       "      <td>773.6</td>\n",
       "      <td>66.2</td>\n",
       "      <td>465.8</td>\n",
       "      <td>NaN</td>\n",
       "      <td>NaN</td>\n",
       "      <td>NaN</td>\n",
       "      <td>NaN</td>\n",
       "      <td>NaN</td>\n",
       "      <td>NaN</td>\n",
       "      <td>NaN</td>\n",
       "      <td>NaN</td>\n",
       "      <td>NaN</td>\n",
       "    </tr>\n",
       "    <tr>\n",
       "      <th>PREVENT-AD</th>\n",
       "      <td>1030.9</td>\n",
       "      <td>68.0</td>\n",
       "      <td>424.8</td>\n",
       "      <td>1150.4</td>\n",
       "      <td>50.3</td>\n",
       "      <td>301.6</td>\n",
       "      <td>1104.4</td>\n",
       "      <td>53.1</td>\n",
       "      <td>304.2</td>\n",
       "      <td>NaN</td>\n",
       "      <td>NaN</td>\n",
       "      <td>NaN</td>\n",
       "      <td>588.4</td>\n",
       "      <td>89.6</td>\n",
       "      <td>598.1</td>\n",
       "    </tr>\n",
       "    <tr>\n",
       "      <th>NACC_ELISA</th>\n",
       "      <td>596.2</td>\n",
       "      <td>80.8</td>\n",
       "      <td>537.4</td>\n",
       "      <td>591.4</td>\n",
       "      <td>61.1</td>\n",
       "      <td>497.4</td>\n",
       "      <td>629.0</td>\n",
       "      <td>48.0</td>\n",
       "      <td>376.6</td>\n",
       "      <td>474.0</td>\n",
       "      <td>64.0</td>\n",
       "      <td>468.0</td>\n",
       "      <td>291.5</td>\n",
       "      <td>88.0</td>\n",
       "      <td>728.8</td>\n",
       "    </tr>\n",
       "    <tr>\n",
       "      <th>EMIF_ELISA</th>\n",
       "      <td>730.9</td>\n",
       "      <td>81.4</td>\n",
       "      <td>523.8</td>\n",
       "      <td>723.7</td>\n",
       "      <td>65.0</td>\n",
       "      <td>435.1</td>\n",
       "      <td>538.2</td>\n",
       "      <td>52.1</td>\n",
       "      <td>269.4</td>\n",
       "      <td>560.0</td>\n",
       "      <td>59.0</td>\n",
       "      <td>355.4</td>\n",
       "      <td>173.1</td>\n",
       "      <td>95.1</td>\n",
       "      <td>669.4</td>\n",
       "    </tr>\n",
       "    <tr>\n",
       "      <th>NACC_XMAP</th>\n",
       "      <td>298.6</td>\n",
       "      <td>58.4</td>\n",
       "      <td>94.0</td>\n",
       "      <td>270.3</td>\n",
       "      <td>40.2</td>\n",
       "      <td>70.0</td>\n",
       "      <td>244.8</td>\n",
       "      <td>36.3</td>\n",
       "      <td>53.8</td>\n",
       "      <td>226.4</td>\n",
       "      <td>41.2</td>\n",
       "      <td>56.7</td>\n",
       "      <td>21.8</td>\n",
       "      <td>69.3</td>\n",
       "      <td>99.7</td>\n",
       "    </tr>\n",
       "    <tr>\n",
       "      <th>EMIF_XMAP</th>\n",
       "      <td>400.4</td>\n",
       "      <td>51.7</td>\n",
       "      <td>204.2</td>\n",
       "      <td>356.4</td>\n",
       "      <td>37.6</td>\n",
       "      <td>129.9</td>\n",
       "      <td>450.2</td>\n",
       "      <td>30.8</td>\n",
       "      <td>83.2</td>\n",
       "      <td>352.2</td>\n",
       "      <td>28.7</td>\n",
       "      <td>100.1</td>\n",
       "      <td>239.5</td>\n",
       "      <td>55.2</td>\n",
       "      <td>123.4</td>\n",
       "    </tr>\n",
       "    <tr>\n",
       "      <th>DOD-ADNI</th>\n",
       "      <td>1276.0</td>\n",
       "      <td>26.5</td>\n",
       "      <td>306.1</td>\n",
       "      <td>1231.9</td>\n",
       "      <td>22.5</td>\n",
       "      <td>250.2</td>\n",
       "      <td>927.0</td>\n",
       "      <td>19.8</td>\n",
       "      <td>229.0</td>\n",
       "      <td>NaN</td>\n",
       "      <td>NaN</td>\n",
       "      <td>NaN</td>\n",
       "      <td>282.4</td>\n",
       "      <td>34.3</td>\n",
       "      <td>369.9</td>\n",
       "    </tr>\n",
       "    <tr>\n",
       "      <th>JADNI</th>\n",
       "      <td>416.4</td>\n",
       "      <td>61.3</td>\n",
       "      <td>133.8</td>\n",
       "      <td>414.3</td>\n",
       "      <td>62.0</td>\n",
       "      <td>145.8</td>\n",
       "      <td>392.0</td>\n",
       "      <td>38.9</td>\n",
       "      <td>72.2</td>\n",
       "      <td>333.9</td>\n",
       "      <td>44.9</td>\n",
       "      <td>86.2</td>\n",
       "      <td>186.9</td>\n",
       "      <td>66.2</td>\n",
       "      <td>128.2</td>\n",
       "    </tr>\n",
       "  </tbody>\n",
       "</table>\n",
       "</div>"
      ],
      "text/plain": [
       "            Aβ1-42_GMM  pTau_GMM  tTau_GMM  Aβ1-42_K-Means  pTau_K-Means  \\\n",
       "Cohort                                                                     \n",
       "ADNI             983.7      34.3     352.3           973.0          28.1   \n",
       "EPAD            1034.9      27.7     306.7          1030.7          19.8   \n",
       "AIBL             714.4      92.6     591.5           689.9          77.7   \n",
       "ARWIBO           577.5     126.2     499.0           512.8          69.2   \n",
       "EDSD             737.5     113.2     535.7           790.8          82.8   \n",
       "PharmaCog        779.6      93.1     630.6           773.6          66.2   \n",
       "PREVENT-AD      1030.9      68.0     424.8          1150.4          50.3   \n",
       "NACC_ELISA       596.2      80.8     537.4           591.4          61.1   \n",
       "EMIF_ELISA       730.9      81.4     523.8           723.7          65.0   \n",
       "NACC_XMAP        298.6      58.4      94.0           270.3          40.2   \n",
       "EMIF_XMAP        400.4      51.7     204.2           356.4          37.6   \n",
       "DOD-ADNI        1276.0      26.5     306.1          1231.9          22.5   \n",
       "JADNI            416.4      61.3     133.8           414.3          62.0   \n",
       "\n",
       "            tTau_K-Means  Aβ1-42_Tertile  pTau_Tertile  tTau_Tertile  \\\n",
       "Cohort                                                                 \n",
       "ADNI               286.2           832.1          21.5         240.5   \n",
       "EPAD               223.7           883.0          19.9         228.3   \n",
       "AIBL               635.3             NaN           NaN           NaN   \n",
       "ARWIBO             406.2             NaN           NaN           NaN   \n",
       "EDSD               577.7             NaN           NaN           NaN   \n",
       "PharmaCog          465.8             NaN           NaN           NaN   \n",
       "PREVENT-AD         301.6          1104.4          53.1         304.2   \n",
       "NACC_ELISA         497.4           629.0          48.0         376.6   \n",
       "EMIF_ELISA         435.1           538.2          52.1         269.4   \n",
       "NACC_XMAP           70.0           244.8          36.3          53.8   \n",
       "EMIF_XMAP          129.9           450.2          30.8          83.2   \n",
       "DOD-ADNI           250.2           927.0          19.8         229.0   \n",
       "JADNI              145.8           392.0          38.9          72.2   \n",
       "\n",
       "            Aβ1-42_ROC  pTau_ROC  tTau_ROC  Aβ1-42_Mean ±2 SD  \\\n",
       "Cohort                                                          \n",
       "ADNI             801.7      24.2     264.8              280.8   \n",
       "EPAD             731.5      20.9     213.8              337.9   \n",
       "AIBL               NaN       NaN       NaN                NaN   \n",
       "ARWIBO             NaN       NaN       NaN                NaN   \n",
       "EDSD               NaN       NaN       NaN                NaN   \n",
       "PharmaCog          NaN       NaN       NaN                NaN   \n",
       "PREVENT-AD         NaN       NaN       NaN              588.4   \n",
       "NACC_ELISA       474.0      64.0     468.0              291.5   \n",
       "EMIF_ELISA       560.0      59.0     355.4              173.1   \n",
       "NACC_XMAP        226.4      41.2      56.7               21.8   \n",
       "EMIF_XMAP        352.2      28.7     100.1              239.5   \n",
       "DOD-ADNI           NaN       NaN       NaN              282.4   \n",
       "JADNI            333.9      44.9      86.2              186.9   \n",
       "\n",
       "            pTau_Mean ±2 SD  tTau_Mean ±2 SD  \n",
       "Cohort                                        \n",
       "ADNI                   40.9            409.7  \n",
       "EPAD                   43.3            436.4  \n",
       "AIBL                    NaN              NaN  \n",
       "ARWIBO                  NaN              NaN  \n",
       "EDSD                    NaN              NaN  \n",
       "PharmaCog               NaN              NaN  \n",
       "PREVENT-AD             89.6            598.1  \n",
       "NACC_ELISA             88.0            728.8  \n",
       "EMIF_ELISA             95.1            669.4  \n",
       "NACC_XMAP              69.3             99.7  \n",
       "EMIF_XMAP              55.2            123.4  \n",
       "DOD-ADNI               34.3            369.9  \n",
       "JADNI                  66.2            128.2  "
      ]
     },
     "execution_count": 9,
     "metadata": {},
     "output_type": "execute_result"
    }
   ],
   "source": [
    "thresholds"
   ]
  },
  {
   "cell_type": "code",
   "execution_count": 12,
   "id": "7dc8314a",
   "metadata": {},
   "outputs": [
    {
     "data": {
      "text/plain": [
       "1034.9"
      ]
     },
     "execution_count": 12,
     "metadata": {},
     "output_type": "execute_result"
    }
   ],
   "source": [
    "thresholds.loc[['ADNI', 'EPAD'], 'Aβ1-42_GMM'].max()"
   ]
  },
  {
   "cell_type": "code",
   "execution_count": 36,
   "id": "e5cfae99",
   "metadata": {},
   "outputs": [],
   "source": [
    "changes_cross_cohorts = pd.DataFrame(index=['group1', 'group2', 'group3'], columns=thresholds.columns)\n",
    "changes_cross_cohorts.index.name = \"groups\""
   ]
  },
  {
   "cell_type": "code",
   "execution_count": 57,
   "id": "39ee03dc",
   "metadata": {},
   "outputs": [],
   "source": [
    "def changes_among_cohorts(cohorts, g, result_):\n",
    "    \"Relative changes among the thresholds obtained using each method within cohorts with the same assay\"\n",
    "\n",
    "    for i in thresholds.columns:\n",
    "        up, low = thresholds.loc[cohorts, i].max(), thresholds.loc[cohorts, i].min()\n",
    "        result_.loc[g, i] = round(((up - low) / up )* 100, 2)"
   ]
  },
  {
   "cell_type": "code",
   "execution_count": 58,
   "id": "9d19045b",
   "metadata": {},
   "outputs": [],
   "source": [
    "changes_among_cohorts(['ADNI', 'EPAD'], 'group1', changes_cross_cohorts)\n",
    "changes_among_cohorts(['AIBL', 'ARWIBO', 'EDSD', 'PharmaCog', 'PREVENT-AD', 'NACC_ELISA', 'EMIF_ELISA'], 'group2', changes_cross_cohorts)\n",
    "changes_among_cohorts(['NACC_XMAP', 'EMIF_XMAP', 'DOD-ADNI', 'JADNI'], 'group3', changes_cross_cohorts)"
   ]
  },
  {
   "cell_type": "code",
   "execution_count": 59,
   "id": "41a3d61b",
   "metadata": {},
   "outputs": [
    {
     "data": {
      "text/html": [
       "<div>\n",
       "<style scoped>\n",
       "    .dataframe tbody tr th:only-of-type {\n",
       "        vertical-align: middle;\n",
       "    }\n",
       "\n",
       "    .dataframe tbody tr th {\n",
       "        vertical-align: top;\n",
       "    }\n",
       "\n",
       "    .dataframe thead th {\n",
       "        text-align: right;\n",
       "    }\n",
       "</style>\n",
       "<table border=\"1\" class=\"dataframe\">\n",
       "  <thead>\n",
       "    <tr style=\"text-align: right;\">\n",
       "      <th></th>\n",
       "      <th>Aβ1-42_GMM</th>\n",
       "      <th>pTau_GMM</th>\n",
       "      <th>tTau_GMM</th>\n",
       "      <th>Aβ1-42_K-Means</th>\n",
       "      <th>pTau_K-Means</th>\n",
       "      <th>tTau_K-Means</th>\n",
       "      <th>Aβ1-42_Tertile</th>\n",
       "      <th>pTau_Tertile</th>\n",
       "      <th>tTau_Tertile</th>\n",
       "      <th>Aβ1-42_ROC</th>\n",
       "      <th>pTau_ROC</th>\n",
       "      <th>tTau_ROC</th>\n",
       "      <th>Aβ1-42_Mean ±2 SD</th>\n",
       "      <th>pTau_Mean ±2 SD</th>\n",
       "      <th>tTau_Mean ±2 SD</th>\n",
       "    </tr>\n",
       "    <tr>\n",
       "      <th>groups</th>\n",
       "      <th></th>\n",
       "      <th></th>\n",
       "      <th></th>\n",
       "      <th></th>\n",
       "      <th></th>\n",
       "      <th></th>\n",
       "      <th></th>\n",
       "      <th></th>\n",
       "      <th></th>\n",
       "      <th></th>\n",
       "      <th></th>\n",
       "      <th></th>\n",
       "      <th></th>\n",
       "      <th></th>\n",
       "      <th></th>\n",
       "    </tr>\n",
       "  </thead>\n",
       "  <tbody>\n",
       "    <tr>\n",
       "      <th>group1</th>\n",
       "      <td>4.95</td>\n",
       "      <td>19.24</td>\n",
       "      <td>12.94</td>\n",
       "      <td>5.6</td>\n",
       "      <td>29.54</td>\n",
       "      <td>21.84</td>\n",
       "      <td>5.76</td>\n",
       "      <td>7.44</td>\n",
       "      <td>5.07</td>\n",
       "      <td>8.76</td>\n",
       "      <td>13.64</td>\n",
       "      <td>19.26</td>\n",
       "      <td>16.9</td>\n",
       "      <td>5.54</td>\n",
       "      <td>6.12</td>\n",
       "    </tr>\n",
       "    <tr>\n",
       "      <th>group2</th>\n",
       "      <td>43.98</td>\n",
       "      <td>46.12</td>\n",
       "      <td>32.64</td>\n",
       "      <td>55.42</td>\n",
       "      <td>39.25</td>\n",
       "      <td>52.53</td>\n",
       "      <td>51.27</td>\n",
       "      <td>9.6</td>\n",
       "      <td>28.47</td>\n",
       "      <td>15.36</td>\n",
       "      <td>7.81</td>\n",
       "      <td>24.06</td>\n",
       "      <td>70.58</td>\n",
       "      <td>7.47</td>\n",
       "      <td>17.93</td>\n",
       "    </tr>\n",
       "    <tr>\n",
       "      <th>group3</th>\n",
       "      <td>76.6</td>\n",
       "      <td>56.77</td>\n",
       "      <td>69.29</td>\n",
       "      <td>78.06</td>\n",
       "      <td>63.71</td>\n",
       "      <td>72.02</td>\n",
       "      <td>73.59</td>\n",
       "      <td>49.1</td>\n",
       "      <td>76.51</td>\n",
       "      <td>35.72</td>\n",
       "      <td>36.08</td>\n",
       "      <td>43.36</td>\n",
       "      <td>92.28</td>\n",
       "      <td>50.51</td>\n",
       "      <td>73.05</td>\n",
       "    </tr>\n",
       "  </tbody>\n",
       "</table>\n",
       "</div>"
      ],
      "text/plain": [
       "       Aβ1-42_GMM pTau_GMM tTau_GMM Aβ1-42_K-Means pTau_K-Means tTau_K-Means  \\\n",
       "groups                                                                         \n",
       "group1       4.95    19.24    12.94            5.6        29.54        21.84   \n",
       "group2      43.98    46.12    32.64          55.42        39.25        52.53   \n",
       "group3       76.6    56.77    69.29          78.06        63.71        72.02   \n",
       "\n",
       "       Aβ1-42_Tertile pTau_Tertile tTau_Tertile Aβ1-42_ROC pTau_ROC tTau_ROC  \\\n",
       "groups                                                                         \n",
       "group1           5.76         7.44         5.07       8.76    13.64    19.26   \n",
       "group2          51.27          9.6        28.47      15.36     7.81    24.06   \n",
       "group3          73.59         49.1        76.51      35.72    36.08    43.36   \n",
       "\n",
       "       Aβ1-42_Mean ±2 SD pTau_Mean ±2 SD tTau_Mean ±2 SD  \n",
       "groups                                                    \n",
       "group1              16.9            5.54            6.12  \n",
       "group2             70.58            7.47           17.93  \n",
       "group3             92.28           50.51           73.05  "
      ]
     },
     "execution_count": 59,
     "metadata": {},
     "output_type": "execute_result"
    }
   ],
   "source": [
    "changes_cross_cohorts"
   ]
  },
  {
   "cell_type": "code",
   "execution_count": 95,
   "id": "8c646aa5",
   "metadata": {},
   "outputs": [
    {
     "data": {
      "text/plain": [
       "Aβ1-42_GMM           4.95\n",
       "Aβ1-42_K-Means        5.6\n",
       "Aβ1-42_Tertile       5.76\n",
       "Aβ1-42_ROC           8.76\n",
       "Aβ1-42_Mean ±2 SD    16.9\n",
       "Name: group1, dtype: object"
      ]
     },
     "execution_count": 95,
     "metadata": {},
     "output_type": "execute_result"
    }
   ],
   "source": [
    "changes_cross_cohorts.loc['group1', ab]"
   ]
  },
  {
   "cell_type": "code",
   "execution_count": 96,
   "id": "96d82219",
   "metadata": {},
   "outputs": [
    {
     "data": {
      "text/plain": [
       "8.394"
      ]
     },
     "execution_count": 96,
     "metadata": {},
     "output_type": "execute_result"
    }
   ],
   "source": [
    "changes_cross_cohorts.loc['group1', ab].mean()"
   ]
  },
  {
   "cell_type": "code",
   "execution_count": 61,
   "id": "150722b2",
   "metadata": {},
   "outputs": [],
   "source": [
    "cross_method = pd.DataFrame(index=changes_cross_cohorts.index, columns=['GMM', 'K-Means', 'Tertile', 'ROC', 'Mean ±2 SD'])\n",
    "cross_biomarker = pd.DataFrame(index=changes_cross_cohorts.index, columns= ['Aβ1-42', 'pTau', 'tTau'])"
   ]
  },
  {
   "cell_type": "code",
   "execution_count": 73,
   "id": "32d53c22",
   "metadata": {},
   "outputs": [],
   "source": [
    "def average_among_biomarker(result_df, g):\n",
    "    \"\"\"Take the average relative changes for each biomarker coming from different methods among cohorts with the same assay\"\"\"\n",
    "\n",
    "    for i in changes_cross_cohorts.index:\n",
    "        result_df.loc[g, 'Aβ1-42'] = round(changes_cross_cohorts.loc[g, ab].mean(), 2)\n",
    "        result_df.loc[g, 'pTau'] = round(changes_cross_cohorts.loc[g, pt].mean(), 2)\n",
    "        result_df.loc[g, 'tTau'] = round(changes_cross_cohorts.loc[g, tt].mean(), 2)"
   ]
  },
  {
   "cell_type": "code",
   "execution_count": 74,
   "id": "52fbf6bf",
   "metadata": {},
   "outputs": [],
   "source": [
    "average_among_biomarker(cross_biomarker, 'group1')\n",
    "average_among_biomarker(cross_biomarker, 'group2')\n",
    "average_among_biomarker(cross_biomarker, 'group3')"
   ]
  },
  {
   "cell_type": "code",
   "execution_count": 75,
   "id": "8faea306",
   "metadata": {},
   "outputs": [
    {
     "data": {
      "text/html": [
       "<div>\n",
       "<style scoped>\n",
       "    .dataframe tbody tr th:only-of-type {\n",
       "        vertical-align: middle;\n",
       "    }\n",
       "\n",
       "    .dataframe tbody tr th {\n",
       "        vertical-align: top;\n",
       "    }\n",
       "\n",
       "    .dataframe thead th {\n",
       "        text-align: right;\n",
       "    }\n",
       "</style>\n",
       "<table border=\"1\" class=\"dataframe\">\n",
       "  <thead>\n",
       "    <tr style=\"text-align: right;\">\n",
       "      <th></th>\n",
       "      <th>Aβ1-42</th>\n",
       "      <th>pTau</th>\n",
       "      <th>tTau</th>\n",
       "    </tr>\n",
       "    <tr>\n",
       "      <th>groups</th>\n",
       "      <th></th>\n",
       "      <th></th>\n",
       "      <th></th>\n",
       "    </tr>\n",
       "  </thead>\n",
       "  <tbody>\n",
       "    <tr>\n",
       "      <th>group1</th>\n",
       "      <td>8.39</td>\n",
       "      <td>15.08</td>\n",
       "      <td>13.05</td>\n",
       "    </tr>\n",
       "    <tr>\n",
       "      <th>group2</th>\n",
       "      <td>47.32</td>\n",
       "      <td>22.05</td>\n",
       "      <td>31.13</td>\n",
       "    </tr>\n",
       "    <tr>\n",
       "      <th>group3</th>\n",
       "      <td>71.25</td>\n",
       "      <td>51.23</td>\n",
       "      <td>66.85</td>\n",
       "    </tr>\n",
       "  </tbody>\n",
       "</table>\n",
       "</div>"
      ],
      "text/plain": [
       "       Aβ1-42   pTau   tTau\n",
       "groups                     \n",
       "group1   8.39  15.08  13.05\n",
       "group2  47.32  22.05  31.13\n",
       "group3  71.25  51.23  66.85"
      ]
     },
     "execution_count": 75,
     "metadata": {},
     "output_type": "execute_result"
    }
   ],
   "source": [
    "cross_biomarker"
   ]
  },
  {
   "cell_type": "code",
   "execution_count": 84,
   "id": "f2794f9a",
   "metadata": {},
   "outputs": [
    {
     "name": "stdout",
     "output_type": "stream",
     "text": [
      "['Aβ1-42_GMM', 'pTau_GMM', 'tTau_GMM', 'Aβ1-42_K-Means', 'pTau_K-Means', 'tTau_K-Means', 'Aβ1-42_Tertile', 'pTau_Tertile', 'tTau_Tertile', 'Aβ1-42_ROC', 'pTau_ROC', 'tTau_ROC', 'Aβ1-42_Mean ±2 SD', 'pTau_Mean ±2 SD', 'tTau_Mean ±2 SD']\n"
     ]
    }
   ],
   "source": [
    "print(changes_cross_cohorts.columns.to_list())"
   ]
  },
  {
   "cell_type": "code",
   "execution_count": 85,
   "id": "2ccd30f4",
   "metadata": {},
   "outputs": [],
   "source": [
    "def average_cross_method(g):\n",
    "    \"\"\"Take the average relative changes within thresholds of each method among cohorts with the same assay\"\"\"\n",
    "    cross_method.loc[g, 'GMM'] = round(changes_cross_cohorts.loc[g, ['Aβ1-42_GMM', 'pTau_GMM', 'tTau_GMM']].mean(), 2)\n",
    "    cross_method.loc[g, 'K-Means'] = round(changes_cross_cohorts.loc[g, ['Aβ1-42_K-Means', 'pTau_K-Means', 'tTau_K-Means']].mean(), 2)\n",
    "    cross_method.loc[g, 'Tertile'] = round(changes_cross_cohorts.loc[g, ['Aβ1-42_Tertile', 'pTau_Tertile', 'tTau_Tertile']].mean(), 2)\n",
    "    cross_method.loc[g, 'ROC'] = round(changes_cross_cohorts.loc[g, ['Aβ1-42_ROC', 'pTau_ROC', 'tTau_ROC']].mean(), 2)\n",
    "    cross_method.loc[g, 'Mean ±2 SD'] = round(changes_cross_cohorts.loc[g, ['Aβ1-42_Mean ±2 SD', 'pTau_Mean ±2 SD', 'tTau_Mean ±2 SD']].mean(), 2)\n"
   ]
  },
  {
   "cell_type": "code",
   "execution_count": 86,
   "id": "926081b9",
   "metadata": {},
   "outputs": [],
   "source": [
    "average_cross_method('group1')\n",
    "average_cross_method('group2')\n",
    "average_cross_method('group3')"
   ]
  },
  {
   "cell_type": "code",
   "execution_count": 88,
   "id": "f21acd13",
   "metadata": {},
   "outputs": [
    {
     "data": {
      "text/html": [
       "<div>\n",
       "<style scoped>\n",
       "    .dataframe tbody tr th:only-of-type {\n",
       "        vertical-align: middle;\n",
       "    }\n",
       "\n",
       "    .dataframe tbody tr th {\n",
       "        vertical-align: top;\n",
       "    }\n",
       "\n",
       "    .dataframe thead th {\n",
       "        text-align: right;\n",
       "    }\n",
       "</style>\n",
       "<table border=\"1\" class=\"dataframe\">\n",
       "  <thead>\n",
       "    <tr style=\"text-align: right;\">\n",
       "      <th></th>\n",
       "      <th>GMM</th>\n",
       "      <th>K-Means</th>\n",
       "      <th>Tertile</th>\n",
       "      <th>ROC</th>\n",
       "      <th>Mean ±2 SD</th>\n",
       "    </tr>\n",
       "    <tr>\n",
       "      <th>groups</th>\n",
       "      <th></th>\n",
       "      <th></th>\n",
       "      <th></th>\n",
       "      <th></th>\n",
       "      <th></th>\n",
       "    </tr>\n",
       "  </thead>\n",
       "  <tbody>\n",
       "    <tr>\n",
       "      <th>group1</th>\n",
       "      <td>12.38</td>\n",
       "      <td>18.99</td>\n",
       "      <td>6.09</td>\n",
       "      <td>13.89</td>\n",
       "      <td>9.52</td>\n",
       "    </tr>\n",
       "    <tr>\n",
       "      <th>group2</th>\n",
       "      <td>40.91</td>\n",
       "      <td>49.07</td>\n",
       "      <td>29.78</td>\n",
       "      <td>15.74</td>\n",
       "      <td>31.99</td>\n",
       "    </tr>\n",
       "    <tr>\n",
       "      <th>group3</th>\n",
       "      <td>67.55</td>\n",
       "      <td>71.26</td>\n",
       "      <td>66.4</td>\n",
       "      <td>38.39</td>\n",
       "      <td>71.95</td>\n",
       "    </tr>\n",
       "  </tbody>\n",
       "</table>\n",
       "</div>"
      ],
      "text/plain": [
       "          GMM K-Means Tertile    ROC Mean ±2 SD\n",
       "groups                                         \n",
       "group1  12.38   18.99    6.09  13.89       9.52\n",
       "group2  40.91   49.07   29.78  15.74      31.99\n",
       "group3  67.55   71.26    66.4  38.39      71.95"
      ]
     },
     "execution_count": 88,
     "metadata": {},
     "output_type": "execute_result"
    }
   ],
   "source": [
    "cross_method"
   ]
  },
  {
   "cell_type": "code",
   "execution_count": null,
   "id": "17b665d8",
   "metadata": {},
   "outputs": [],
   "source": []
  }
 ],
 "metadata": {
  "kernelspec": {
   "display_name": "Python 3 (ipykernel)",
   "language": "python",
   "name": "python3"
  },
  "language_info": {
   "codemirror_mode": {
    "name": "ipython",
    "version": 3
   },
   "file_extension": ".py",
   "mimetype": "text/x-python",
   "name": "python",
   "nbconvert_exporter": "python",
   "pygments_lexer": "ipython3",
   "version": "3.8.15"
  }
 },
 "nbformat": 4,
 "nbformat_minor": 5
}
