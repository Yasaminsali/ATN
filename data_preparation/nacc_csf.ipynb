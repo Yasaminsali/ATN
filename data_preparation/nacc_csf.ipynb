{
 "cells": [
  {
   "cell_type": "code",
   "execution_count": 1,
   "id": "8c13719b",
   "metadata": {},
   "outputs": [],
   "source": [
    "import pandas as pd"
   ]
  },
  {
   "cell_type": "code",
   "execution_count": 2,
   "id": "5790c270",
   "metadata": {},
   "outputs": [],
   "source": [
    "nacc = pd.read_csv('../data/nacc merge/NACC_MERGE.csv', low_memory=False)\n",
    "nacc_csf = pd.read_csv('../data/NACC CSF-MRI/birkenbihl06182020csf.csv')[['NACCID', 'CSFPTAU', 'CSFTTAU', \"CSFABETA\", 'CSFABMD', 'CSFPTMD', \"CSFTTMD\"]]"
   ]
  },
  {
   "cell_type": "code",
   "execution_count": 3,
   "id": "3889fc63",
   "metadata": {},
   "outputs": [],
   "source": [
    "# nacc_csf[['CSFPTAU', 'CSFTTAU', \"CSFABETA\", 'CSFABMD', 'CSFPTMD', \"CSFTTMD\"]].dropna(subset=['CSFPTAU', 'CSFTTAU', \"CSFABETA\"])"
   ]
  },
  {
   "cell_type": "code",
   "execution_count": 8,
   "id": "053cd370",
   "metadata": {},
   "outputs": [
    {
     "data": {
      "text/plain": [
       "(142649, 1167)"
      ]
     },
     "execution_count": 8,
     "metadata": {},
     "output_type": "execute_result"
    }
   ],
   "source": [
    "nacc.shape"
   ]
  },
  {
   "cell_type": "code",
   "execution_count": 4,
   "id": "2be03ba9",
   "metadata": {},
   "outputs": [],
   "source": [
    "nacc_merge = nacc.merge(nacc_csf, on=['NACCID', 'CSFPTAU', 'CSFTTAU', \"CSFABETA\"], how='left')"
   ]
  },
  {
   "cell_type": "code",
   "execution_count": 9,
   "id": "e547e3ce",
   "metadata": {},
   "outputs": [],
   "source": [
    "# nacc_merge.loc[nacc_merge['Months']==0][['CSFPTAU', 'CSFTTAU', \"CSFABETA\", 'CSFABMD', 'CSFPTMD', \"CSFTTMD\"]].dropna()"
   ]
  },
  {
   "cell_type": "code",
   "execution_count": 15,
   "id": "fab0f901",
   "metadata": {},
   "outputs": [],
   "source": [
    "nacc_merge.set_index('NACCID', inplace=True)"
   ]
  },
  {
   "cell_type": "code",
   "execution_count": 16,
   "id": "c69de5d4",
   "metadata": {},
   "outputs": [],
   "source": [
    "nacc_merge.to_csv(\"../cohort_studies_full_data/NACC_MERGE.csv\", index_label='NACCID')"
   ]
  },
  {
   "cell_type": "code",
   "execution_count": 25,
   "id": "ba138b2f",
   "metadata": {},
   "outputs": [],
   "source": [
    "test = nacc_merge.loc[nacc_merge['Months']==0]"
   ]
  },
  {
   "cell_type": "code",
   "execution_count": 30,
   "id": "786af290",
   "metadata": {},
   "outputs": [],
   "source": [
    "# the methods for all 3 CSF measurements is the same\n",
    "for i in test.dropna(subset=['CSFPTAU', 'CSFTTAU', \"CSFABETA\"]).index:\n",
    "    if test.loc[i]['CSFABMD'] != test.loc[i]['CSFPTMD'] or test.loc[i]['CSFABMD'] != test.loc[i]['CSFTTMD']:\n",
    "        print(i)"
   ]
  },
  {
   "cell_type": "code",
   "execution_count": null,
   "id": "0d679bb4",
   "metadata": {},
   "outputs": [],
   "source": [
    "# nacc.loc[nacc['Months']==0][['CSFPTAU', 'CSFTTAU', \"CSFABETA\", 'NACCAGE']].dropna()"
   ]
  }
 ],
 "metadata": {
  "kernelspec": {
   "display_name": "Python 3",
   "language": "python",
   "name": "python3"
  },
  "language_info": {
   "codemirror_mode": {
    "name": "ipython",
    "version": 3
   },
   "file_extension": ".py",
   "mimetype": "text/x-python",
   "name": "python",
   "nbconvert_exporter": "python",
   "pygments_lexer": "ipython3",
   "version": "3.9.9"
  }
 },
 "nbformat": 4,
 "nbformat_minor": 5
}
