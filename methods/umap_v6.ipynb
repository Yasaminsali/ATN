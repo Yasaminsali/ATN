{
 "cells": [
  {
   "cell_type": "markdown",
   "metadata": {},
   "source": [
    "### Imports"
   ]
  },
  {
   "cell_type": "code",
   "execution_count": 1,
   "metadata": {},
   "outputs": [],
   "source": [
    "import numpy as np\n",
    "import pandas as pd \n",
    "from collections import Counter\n",
    "import os\n",
    "import glob\n",
    "import copy\n",
    "import seaborn as sns\n",
    "import matplotlib.pyplot as plt\n",
    "import umap\n",
    "import scipy.stats as stats\n",
    "import matplotlib.patches as mpatches\n",
    "from matplotlib.lines import Line2D\n",
    "import math\n",
    "import seaborn as sns\n",
    "from matplotlib.backends.backend_pdf import PdfPages"
   ]
  },
  {
   "cell_type": "markdown",
   "metadata": {},
   "source": [
    "### Read every cohort study file"
   ]
  },
  {
   "cell_type": "code",
   "execution_count": 2,
   "metadata": {},
   "outputs": [],
   "source": [
    "datasets = [pd.read_csv(file, index_col=0, low_memory=False) for file in sorted(glob.glob('../cohort_studies_full_data/' + \"/*.\"+'csv'))]\n",
    "cohorts = [file.split(\".\")[0] for file in sorted(os.listdir('../cohort_studies_full_data/'))]"
   ]
  },
  {
   "cell_type": "code",
   "execution_count": 3,
   "metadata": {},
   "outputs": [],
   "source": [
    "# make a dictionary that contains all cohorts as a dataframe\n",
    "cohort_studies = dict()\n",
    "# dfsss = dict()\n",
    "\n",
    "for cohort, dataset in zip(cohorts, datasets):\n",
    "    cohort_n = cohort.split(\"_MERGE\")[0]\n",
    "    cohort_studies[cohort_n] = dataset.loc[dataset['Months']==0].copy() # reduce to BL visit\n",
    "#     dfsss[cohort_n] = dataset"
   ]
  },
  {
   "cell_type": "code",
   "execution_count": 4,
   "metadata": {},
   "outputs": [],
   "source": [
    "datasets_sub = [pd.read_csv(file, index_col=0, low_memory=False) for file in sorted(glob.glob('../preprocessed_datasets/' + \"/*.\"+'csv'))]\n",
    "cohorts_sub = [file.split(\".\")[0] for file in sorted(os.listdir('../preprocessed_datasets/'))]"
   ]
  },
  {
   "cell_type": "code",
   "execution_count": 5,
   "metadata": {},
   "outputs": [],
   "source": [
    "# make a dictionary that contains all cohorts as a dataframe\n",
    "cohort_studies_sub = dict()\n",
    "\n",
    "for cohort, dataset in zip(cohorts_sub, datasets_sub):\n",
    "    cohort_studies_sub[cohort] = dataset.loc[dataset['Months']==0].copy() # reduce to BL visit"
   ]
  },
  {
   "cell_type": "code",
   "execution_count": 6,
   "metadata": {},
   "outputs": [],
   "source": [
    "# add the preprocessed columns from sub table of each dataset to the main table of dataset\n",
    "for i in cohort_studies:\n",
    "#     cols = cohort_studies_sub[i].columns.difference(cohort_studies[i].columns)\n",
    "    cols = ['Age', 'Sex', 'Education', 'APOE4', 'CDR', 'Race']\n",
    "    \n",
    "    for col in cols:\n",
    "        \n",
    "        if col in cohort_studies_sub[i].columns:\n",
    "            cohort_studies[i][col] = cohort_studies_sub[i][col]"
   ]
  },
  {
   "cell_type": "markdown",
   "metadata": {},
   "source": [
    "### Read harmonized mapping tables"
   ]
  },
  {
   "cell_type": "code",
   "execution_count": 7,
   "metadata": {},
   "outputs": [],
   "source": [
    "modality = [pd.read_csv(file, sep=',') for file in sorted(glob.glob('../feature_tables' + \"/*.\"+'csv'))]\n",
    "name = [file.split(\".\")[0] for file in sorted(os.listdir('../feature_tables'))]"
   ]
  },
  {
   "cell_type": "code",
   "execution_count": 8,
   "metadata": {},
   "outputs": [],
   "source": [
    "# make a dictionary that contains all modalities as a dataframe\n",
    "mappings = dict()\n",
    "\n",
    "for moda, na in zip(modality, name):\n",
    "    mappings[na.split(' - ')[1]] = moda"
   ]
  },
  {
   "cell_type": "code",
   "execution_count": 9,
   "metadata": {},
   "outputs": [],
   "source": [
    "harmonized_features = pd.concat(mappings, ignore_index=True) # combine all tables"
   ]
  },
  {
   "cell_type": "code",
   "execution_count": 10,
   "metadata": {},
   "outputs": [],
   "source": [
    "# exclude categorical and taboo features\n",
    "harmonized_features = harmonized_features.loc[(harmonized_features['Rank']!=1) & (harmonized_features['Rank']!=2)]"
   ]
  },
  {
   "cell_type": "markdown",
   "metadata": {},
   "source": [
    "### Read the feature availability files for all cohorts"
   ]
  },
  {
   "cell_type": "code",
   "execution_count": 11,
   "metadata": {},
   "outputs": [],
   "source": [
    "ava_mapp = [pd.read_csv(file, sep='\\t') for file in sorted(glob.glob('../feature_availability_in_cohorts' + \"/*.\"+'tsv'))]\n",
    "tablesss = [file.split(\".\")[0] for file in sorted(os.listdir('../feature_availability_in_cohorts'))]"
   ]
  },
  {
   "cell_type": "code",
   "execution_count": 12,
   "metadata": {},
   "outputs": [],
   "source": [
    "# make a dictionary that contains all modalities as a dataframe\n",
    "available_features = dict()\n",
    "\n",
    "for modal, df in zip(tablesss, ava_mapp):\n",
    "    available_features[modal] = df"
   ]
  },
  {
   "cell_type": "code",
   "execution_count": 13,
   "metadata": {},
   "outputs": [],
   "source": [
    "existing_features = pd.concat(available_features, ignore_index=True) # combine all tables"
   ]
  },
  {
   "cell_type": "code",
   "execution_count": 14,
   "metadata": {},
   "outputs": [],
   "source": [
    "existing_features.replace({0: np.nan}, inplace=True) # 0 indicates that the feature was not measured "
   ]
  },
  {
   "cell_type": "markdown",
   "metadata": {},
   "source": [
    "### Read cutoffs obtained using all methods"
   ]
  },
  {
   "cell_type": "code",
   "execution_count": 15,
   "metadata": {},
   "outputs": [],
   "source": [
    "table_method = [pd.read_csv(file, index_col=0, low_memory=False) for file in sorted(glob.glob('../results/cutoffs/' + \"/*.\"+'csv'))]\n",
    "method_name = [file.split(\".\")[0] for file in sorted(os.listdir('../results/cutoffs/'))]"
   ]
  },
  {
   "cell_type": "code",
   "execution_count": 16,
   "metadata": {},
   "outputs": [],
   "source": [
    "# make a dictionary that contains each cutoff table as a dataframe\n",
    "cutoffs_ = dict()\n",
    "\n",
    "for tm, mn in zip(table_method, method_name):\n",
    "    cutoffs_[mn] = tm"
   ]
  },
  {
   "cell_type": "code",
   "execution_count": 17,
   "metadata": {},
   "outputs": [
    {
     "data": {
      "text/plain": [
       "[None, None, None]"
      ]
     },
     "execution_count": 17,
     "metadata": {},
     "output_type": "execute_result"
    }
   ],
   "source": [
    "[cutoffs_['km_cutoffs'].rename(columns={col: col.split('_')[0]}, inplace=True) for col in cutoffs_['km_cutoffs'].columns]"
   ]
  },
  {
   "cell_type": "markdown",
   "metadata": {},
   "source": [
    "### Selecetion of cohort studies for A/T/N assignment"
   ]
  },
  {
   "cell_type": "markdown",
   "metadata": {},
   "source": [
    "### Select the patient that have CSF biomarker, disregard the diagnostic status"
   ]
  },
  {
   "cell_type": "code",
   "execution_count": 18,
   "metadata": {},
   "outputs": [],
   "source": [
    "atn = pd.DataFrame(index=available_features['csf'].iloc[:3].replace({0: np.nan}).dropna(axis=1).columns[1:].to_list(), columns=mappings['csf'].Feature.loc[0:2].to_list()+([\"Total\"]))\n",
    "# atn = pd.DataFrame(index=cohort_studies, columns=['A', 'T', 'N'])"
   ]
  },
  {
   "cell_type": "code",
   "execution_count": 19,
   "metadata": {},
   "outputs": [],
   "source": [
    "for cohort in atn.index:\n",
    "    for feat in mappings['csf'][cohort].loc[0:2].dropna().to_list():\n",
    "        if feat in cohort_studies[cohort].columns:\n",
    "            atn.loc[cohort, mappings['csf'].loc[mappings['csf'][cohort]==feat, 'Feature']] = len(cohort_studies[cohort][feat].dropna())\n",
    "            atn.loc[cohort, 'Total'] = len(cohort_studies[cohort][mappings['csf'][cohort].loc[0:2].dropna().to_list()].dropna())"
   ]
  },
  {
   "cell_type": "code",
   "execution_count": 20,
   "metadata": {},
   "outputs": [],
   "source": [
    "# atn"
   ]
  },
  {
   "cell_type": "code",
   "execution_count": 21,
   "metadata": {},
   "outputs": [],
   "source": [
    "diag = pd.DataFrame(index=available_features['csf'].iloc[:3].replace({0: np.nan}).dropna(axis=1).columns[1:].to_list(), columns=cohort_studies['ADNI']['Diagnosis'].dropna().unique())"
   ]
  },
  {
   "cell_type": "code",
   "execution_count": 22,
   "metadata": {},
   "outputs": [],
   "source": [
    "for cohort in diag.index:\n",
    "    for dia in diag.columns:\n",
    "        diag.loc[cohort, dia] = len(cohort_studies[cohort].loc[cohort_studies[cohort]['Diagnosis']==dia][mappings['csf'][cohort].loc[0:2].dropna().to_list()].dropna())"
   ]
  },
  {
   "cell_type": "markdown",
   "metadata": {},
   "source": [
    "### Remove the empty columns from all cohorts that we are intrested in\n",
    "### Remove the participant without all 3 CSF biomarkers"
   ]
  },
  {
   "cell_type": "code",
   "execution_count": 23,
   "metadata": {},
   "outputs": [],
   "source": [
    "selected_cohorts = dict()\n",
    "\n",
    "for coh in diag.index:\n",
    "    selected_cohorts[coh] = cohort_studies[coh].dropna(axis=1, how='all')"
   ]
  },
  {
   "cell_type": "code",
   "execution_count": 24,
   "metadata": {},
   "outputs": [],
   "source": [
    "total_feats = dict()\n",
    "\n",
    "# existing_features.set_index('Feature', inplace=True)\n",
    "\n",
    "for feat in existing_features.Feature:\n",
    "    total_feats[feat] = existing_features.loc[existing_features.Feature==feat][selected_cohorts].dropna(axis=1).columns"
   ]
  },
  {
   "cell_type": "code",
   "execution_count": 25,
   "metadata": {},
   "outputs": [],
   "source": [
    "for cohort in atn.index:\n",
    "    feat = mappings['csf'][cohort].loc[0:2].dropna().to_list()\n",
    "    cohort_studies[cohort] = cohort_studies[cohort].dropna(subset=feat)"
   ]
  },
  {
   "cell_type": "markdown",
   "metadata": {},
   "source": [
    "As Some features have suffix due to merging tables for certain cohorts, first investigate if all the harmonized features are in cohorts. Rename the ones that have suffix so it can be compatible to work with our harmonized names."
   ]
  },
  {
   "cell_type": "code",
   "execution_count": 26,
   "metadata": {},
   "outputs": [],
   "source": [
    "cohort_studies['ADNI'] = cohort_studies['ADNI'].rename(columns={'PTEDUCAT_x': 'PTEDUCAT', 'TRABSCOR_bl': 'TRABSCOR', 'LDELTOTAL_BL': 'LDELTOTAL'})"
   ]
  },
  {
   "cell_type": "markdown",
   "metadata": {},
   "source": [
    "### CSF biomarkers, two classes, normal vs abnormal"
   ]
  },
  {
   "cell_type": "code",
   "execution_count": 27,
   "metadata": {},
   "outputs": [],
   "source": [
    "# modality_ = ['clinical_i', 'clinical_ii','hippocampus', 'csf']\n",
    "# modality_ = ['basal_ganglia', 'brain_poles_volume', 'cerebellum', 'clinical_i', \n",
    "#             'clinical_ii', 'csf', 'diencephalus', 'general_brain', \n",
    "#             'mri_others', 'pet', 'plasma', 'ventricles', 'hippocampus']\n",
    "modality_ = ['basal_ganglia', 'brain_poles_volume', 'cerebellum', 'csf', 'diencephalus', 'general_brain', \n",
    "            'mri_others', 'pet', 'plasma', 'ventricles', 'hippocampus']\n",
    "\n",
    "selected_feat = dict()\n",
    "\n",
    "for i in modality_:\n",
    "    selected_feat[i] = mappings[i]"
   ]
  },
  {
   "cell_type": "code",
   "execution_count": 28,
   "metadata": {},
   "outputs": [],
   "source": [
    "# make a dataframe containing all the mapped features\n",
    "features_all = pd.concat(selected_feat, ignore_index=True)"
   ]
  },
  {
   "cell_type": "code",
   "execution_count": 29,
   "metadata": {},
   "outputs": [],
   "source": [
    "features_all = features_all[atn.index.union(['Feature', 'Rank'])] # subset the cohorts of interest"
   ]
  },
  {
   "cell_type": "code",
   "execution_count": 30,
   "metadata": {},
   "outputs": [],
   "source": [
    "# remove the features that are not available in all studies\n",
    "features_all = features_all.loc[features_all['Feature'].isin(existing_features[atn.index.union(['Feature'])].dropna(how='all')['Feature'].to_list())]"
   ]
  },
  {
   "cell_type": "markdown",
   "metadata": {},
   "source": [
    "### Convert MRI measurements to mm3, same as ADNI and other cohorts"
   ]
  },
  {
   "cell_type": "code",
   "execution_count": 31,
   "metadata": {},
   "outputs": [],
   "source": [
    "mri_nacc = ['basal_ganglia', 'brain_poles_volume', 'cerebellum', 'diencephalus', 'general_brain', \n",
    "            'mri_others', 'pet', 'plasma', 'ventricles', 'hippocampus']\n",
    "\n",
    "for i in mri_nacc:\n",
    "    \n",
    "    for variable in mappings[i][['Feature', 'NACC']].dropna()['Feature'].to_list():\n",
    "        \n",
    "        if \"Volume\" in variable:\n",
    "            nacc_var = mappings[i].loc[mappings[i]['Feature']==variable, 'NACC']\n",
    "            cohort_studies['NACC'][nacc_var] = cohort_studies['NACC'][nacc_var] * 1000"
   ]
  },
  {
   "cell_type": "code",
   "execution_count": 32,
   "metadata": {},
   "outputs": [],
   "source": [
    "nacc_mri_to_convert = list()\n",
    "\n",
    "for i in mri_nacc:\n",
    "    \n",
    "    for feat_ in mappings[i]['NACC'].dropna().to_list():\n",
    "        nacc_mri_to_convert.append(feat_)"
   ]
  },
  {
   "cell_type": "markdown",
   "metadata": {},
   "source": [
    "* Rank 1 --> Categorical features\n",
    "* Rank 2 --> Taboo features: some categorical and some numerical\n",
    "* Rank nan --> Numerical features \n",
    "\n",
    "replace nan with 0"
   ]
  },
  {
   "cell_type": "code",
   "execution_count": 33,
   "metadata": {},
   "outputs": [],
   "source": [
    "features_all['Rank'].replace({np.nan: 0}, inplace=True)"
   ]
  },
  {
   "cell_type": "code",
   "execution_count": 34,
   "metadata": {},
   "outputs": [],
   "source": [
    "features_all.replace({\"No total score.\": np.nan}, inplace=True)"
   ]
  },
  {
   "cell_type": "code",
   "execution_count": 35,
   "metadata": {},
   "outputs": [],
   "source": [
    "# fix PharmaCog column names\n",
    "for i in cohort_studies['PharmaCog'].columns:\n",
    "    if \"\\xa0\" in i:\n",
    "        new = str(i).replace(u'\\xa0', u'')\n",
    "        cohort_studies['PharmaCog'].rename(columns={i: new}, inplace=True)"
   ]
  },
  {
   "cell_type": "markdown",
   "metadata": {},
   "source": [
    "## Prepare datasets"
   ]
  },
  {
   "cell_type": "code",
   "execution_count": 36,
   "metadata": {},
   "outputs": [],
   "source": [
    "def umap_atn_participants(dfss, cohorts, thresholds, features):\n",
    "    \"\"\"cohorts: list of cohort names \n",
    "       dfss: dictionary of cohorts where each key is the name of a cohort\n",
    "       thresholds: cutoff values obtained using a methodology\n",
    "       \n",
    "       Select the features and participants and categorize the participant into ATN profiles using thresholds\n",
    "       obtained from each methodology.\n",
    "       \n",
    "       return a df which contain the combination of paticipant from the selected cohorts while harmonizing\n",
    "       the features names.\n",
    "    \"\"\"\n",
    "    \n",
    "    # make a list of additional features to be investigated \n",
    "#     additional_feat = ['Age', 'Sex', 'Education', 'APOE4', 'CDR', 'Race']\n",
    "    additional_feat = ['APOE4']\n",
    "\n",
    "    # make an empty dictionary to add the datasets to\n",
    "    df_= pd.DataFrame(columns=set(features.loc[features['Rank']==0]\n",
    "                                  [cohorts + ['Feature']].dropna()['Feature']).difference(['Feature'] + list(thresholds.columns)).union(additional_feat))\n",
    "   \n",
    "    for i in cohorts:\n",
    "#         print(i)\n",
    "\n",
    "        dfs = dict()\n",
    "        dfs[i] = dfss[i].copy() # make a copy of the dataset of interest\n",
    "        # select the subset of datasets with features to be investigated\n",
    "        dfs[i] = dfs[i][features.loc[features['Rank']==0][cohorts + ['Feature']].dropna()[i].to_list() + additional_feat].dropna(axis=1, how='all')\n",
    "        # rename all the columns so we can concat the datasets later\n",
    "        [dfs[i].rename(columns={col: coln}, inplace=True) for col, coln in \n",
    "         zip(features.loc[features['Rank']==0][cohorts + ['Feature']].dropna()[i].to_list(), \n",
    "             features.loc[features['Rank']==0][cohorts + ['Feature']].dropna()['Feature'].to_list())]\n",
    "        dfs[i]['Cohort'] = i # add a cohort name column\n",
    "        # change the datatype to str as these are categorical features. astype doesn't work as it will include nan values\n",
    "        dfs[i] = dfs[i].replace({'APOE4': {0.0: '0', 2.0: '2', 1.0: '1'}}) \n",
    "\n",
    "        if i!='NACC':\n",
    "            \n",
    "            for biomarker in thresholds.columns:\n",
    "                # select the cutoff value for each biomarker for each cohort\n",
    "                threshold = thresholds.loc[i][biomarker]\n",
    "\n",
    "                # dichotomize the participants\n",
    "                if biomarker == 'pTau in CSF': \n",
    "                    dfs[i].loc[dfs[i][biomarker]>threshold, \"T\"] = 'T+'\n",
    "                    dfs[i].loc[dfs[i][biomarker]<threshold, \"T\"] = 'T-'\n",
    "\n",
    "                elif biomarker == 'tTau in CSF': \n",
    "                    dfs[i].loc[dfs[i][biomarker]>threshold, \"N\"] = 'N+'\n",
    "                    dfs[i].loc[dfs[i][biomarker]<threshold, \"N\"] = 'N-'\n",
    "\n",
    "                else: \n",
    "                    dfs[i].loc[dfs[i][biomarker]<threshold, \"A\"] = 'A+'\n",
    "                    dfs[i].loc[dfs[i][biomarker]>threshold, \"A\"] = 'A-'\n",
    "\n",
    "            # join the 3 columns to make the final ATN categorie                                 \n",
    "            dfs[i]['ATN'] = dfs[i]['A'] + dfs[i]['T'] + dfs[i]['N']\n",
    "            # remove the columns that we are not interested in\n",
    "            dfs[i] = dfs[i][dfs[i].columns.difference(['A', 'T', 'N', 'Mini-Mental State Examination (MMSE)'] + list(thresholds.columns))]\n",
    "            \n",
    "        else:\n",
    "            \n",
    "            elisa_index = cohort_studies[i].loc[(cohort_studies[i]['CSFTTMD']==1)].index\n",
    "            xmap_index = cohort_studies[i].loc[(cohort_studies[i]['CSFTTMD']==2)].index\n",
    "            \n",
    "            for biomarker in thresholds.columns:\n",
    "                # select the cutoff value for each biomarker for each cohort\n",
    "                elisa = thresholds.loc[i + \"_ELISA\"][biomarker] # ELISA\n",
    "                xmap = thresholds.loc[i + \"_XMAP\"][biomarker] #XMAP\n",
    "\n",
    "                # dichotomize the participants\n",
    "                if biomarker == 'pTau in CSF': \n",
    "                    \n",
    "                    dfs[i].loc[(dfs[i].index.isin(elisa_index)) & (dfs[i][biomarker]>elisa), \"T\"] = 'T+'\n",
    "                    dfs[i].loc[(dfs[i].index.isin(elisa_index)) & (dfs[i][biomarker]<elisa), \"T\"] = 'T-'\n",
    "                    dfs[i].loc[(dfs[i].index.isin(xmap_index)) & (dfs[i][biomarker]>xmap), \"T\"] = 'T+'\n",
    "                    dfs[i].loc[(dfs[i].index.isin(xmap_index)) & (dfs[i][biomarker]<xmap), \"T\"] = 'T-'\n",
    "\n",
    "                elif biomarker == 'tTau in CSF': \n",
    "                    dfs[i].loc[(dfs[i].index.isin(elisa_index)) & (dfs[i][biomarker]>elisa), \"N\"] = 'N+'\n",
    "                    dfs[i].loc[(dfs[i].index.isin(elisa_index)) & (dfs[i][biomarker]<elisa), \"N\"] = 'N-'\n",
    "                    dfs[i].loc[(dfs[i].index.isin(xmap_index)) & (dfs[i][biomarker]>xmap), \"N\"] = 'N+'\n",
    "                    dfs[i].loc[(dfs[i].index.isin(xmap_index)) & (dfs[i][biomarker]<xmap), \"N\"] = 'N-'\n",
    "\n",
    "                else: \n",
    "                    dfs[i].loc[(dfs[i].index.isin(elisa_index)) & (dfs[i][biomarker]<elisa), \"A\"] = 'A+'\n",
    "                    dfs[i].loc[(dfs[i].index.isin(elisa_index)) & (dfs[i][biomarker]>elisa), \"A\"] = 'A-'\n",
    "                    dfs[i].loc[(dfs[i].index.isin(xmap_index)) & (dfs[i][biomarker]<xmap), \"A\"] = 'A+'\n",
    "                    dfs[i].loc[(dfs[i].index.isin(xmap_index)) & (dfs[i][biomarker]>xmap), \"A\"] = 'A-'\n",
    "\n",
    "            # join the 3 columns to make the final ATN categorie                                 \n",
    "            dfs[i]['ATN'] = dfs[i]['A'] + dfs[i]['T'] + dfs[i]['N']\n",
    "            # remove the columns that we are not interested in\n",
    "            dfs[i] = dfs[i][dfs[i].columns.difference(['A', 'T', 'N', 'Mini-Mental State Examination (MMSE)', 'Trail Making Test (TMT) A', 'Verbal fluency tests (Semantic) Animal'] + list(thresholds.columns))]\n",
    "            \n",
    "#         print(dfs[i])\n",
    "\n",
    "        \n",
    "        df_ = pd.concat([df_, dfs[i]])\n",
    "#         print(df_)\n",
    "#         df_ = df_.dropna(axis=1, thresh=len(df_.index)/2)\n",
    "#         print(df_)\n",
    "    \n",
    "    df_ = df_.dropna(axis=1, how='all')\n",
    "    df_ = df_.dropna(axis=1, thresh=1200)\n",
    "\n",
    "    df_ = df_.dropna()\n",
    "\n",
    "    return df_"
   ]
  },
  {
   "cell_type": "code",
   "execution_count": 37,
   "metadata": {},
   "outputs": [],
   "source": [
    "# umap_atn_participants(cohort_studies, ['ADNI', 'ARWIBO', 'JADNI', 'DOD-ADNI', 'PharmaCog'], cutoffs_['km_cutoffs'], features_all)"
   ]
  },
  {
   "cell_type": "code",
   "execution_count": 38,
   "metadata": {},
   "outputs": [],
   "source": [
    "# test = umap_atn_participants(cohort_studies, ['ADNI', 'ARWIBO', 'JADNI', 'DOD-ADNI', 'PharmaCog'], cutoffs_['km_cutoffs'], features_all)"
   ]
  },
  {
   "cell_type": "code",
   "execution_count": 39,
   "metadata": {},
   "outputs": [],
   "source": [
    "# umap_atn_participants(cohort_studies, ['ADNI', 'ARWIBO', 'JADNI', 'DOD-ADNI', 'PharmaCog'], cutoffs_['km_cutoffs'], features_all)"
   ]
  },
  {
   "cell_type": "code",
   "execution_count": 40,
   "metadata": {},
   "outputs": [],
   "source": [
    "# Counter(umap_atn_participants(cohort_studies, ['ADNI', 'ARWIBO', 'JADNI', 'DOD-ADNI', 'PharmaCog'], cutoffs_['km_cutoffs'], features_all).Cohort)"
   ]
  },
  {
   "cell_type": "code",
   "execution_count": 41,
   "metadata": {},
   "outputs": [],
   "source": [
    "# umap_atn_participants(cohort_studies, ['ADNI', 'ARWIBO', 'JADNI', 'DOD-ADNI', 'PharmaCog'], cutoffs_['km_cutoffs'], features_all).columns.difference(umap_atn_participants(cohort_studies, ['ADNI', 'ARWIBO', 'JADNI', 'DOD-ADNI', 'PharmaCog'], cutoffs_['km_cutoffs'], features_all).dropna(axis=1, thresh=1000).columns)"
   ]
  },
  {
   "cell_type": "code",
   "execution_count": 42,
   "metadata": {},
   "outputs": [],
   "source": [
    "# Counter(umap_atn_participants(cohort_studies, ['ADNI', 'ARWIBO', 'JADNI', 'DOD-ADNI', 'PharmaCog'], cutoffs_['km_cutoffs'], features_all).Cohort)"
   ]
  },
  {
   "cell_type": "code",
   "execution_count": 43,
   "metadata": {},
   "outputs": [],
   "source": [
    "# umap_atn_participants(cohort_studies, ['ADNI', 'EDSD', 'ARWIBO', 'NACC', 'JADNI', 'DOD-ADNI', 'PharmaCog'], cutoffs_['gmm_cutoffs'], features_all)"
   ]
  },
  {
   "cell_type": "code",
   "execution_count": 44,
   "metadata": {},
   "outputs": [],
   "source": [
    "def norm_df(df, cohorts_l):\n",
    "    \"\"\"df: concatenated df, containing participants of interested cohort studies\n",
    "    cohorts_l: a list of cohorts that are contain in the df\n",
    "    normalize the continuous features and apply dummy variable method for categorical features\n",
    "    return: a dictionary where the keys are the cohort name and the values are dfs containing preprocessed values \n",
    "    \"\"\"\n",
    "    cohort_dict = dict()\n",
    "    \n",
    "    for i in cohorts_l:\n",
    "        sub_df = df.loc[df['Cohort']==i]\n",
    "        # make dummy variables and normalize features \n",
    "#         num = sub_df[sub_df.select_dtypes(exclude='object').columns.difference(['APOE4'])].apply(stats.zscore)\n",
    "        num = sub_df[sub_df.select_dtypes(exclude='object').columns.difference(['APOE4'])]\n",
    "        cat = pd.get_dummies(sub_df[sub_df.select_dtypes(include='object').columns.difference(['ATN', 'Cohort'])].dropna())\n",
    "        others = sub_df[['ATN', 'Cohort']]\n",
    "        data_f = pd.concat([num, cat, others], axis=1)\n",
    "        cohort_dict[i] = data_f\n",
    "        \n",
    "    return cohort_dict"
   ]
  },
  {
   "cell_type": "code",
   "execution_count": 45,
   "metadata": {},
   "outputs": [],
   "source": [
    "# norm_df(test, ['ADNI', 'ARWIBO', 'JADNI', 'DOD-ADNI', 'PharmaCog'])"
   ]
  },
  {
   "cell_type": "code",
   "execution_count": 46,
   "metadata": {},
   "outputs": [],
   "source": [
    "def cohorts_vs_method(cohortsss, methods=None):\n",
    "    \"\"\"\n",
    "    cohortsss: selected cohorts for UMAP analysis\n",
    "    methods: a list of methods \n",
    "    call the functions to preprocess the cohorts\n",
    "    return: a dictionary where the keys are methods for obtaining thresholds and values are df containing the \n",
    "    preprocessed datasets (containing the selected features and cohorts)\n",
    "    \"\"\"\n",
    "    \n",
    "    result_dfs = dict()\n",
    "    \n",
    "    if methods != None:\n",
    "        \n",
    "        for method in methods:\n",
    "#             print(method)\n",
    "            umap_df = umap_atn_participants(cohort_studies, cohortsss, cutoffs_[method], features_all)\n",
    "            umap_df_concat = pd.concat(norm_df(umap_df, cohortsss), ignore_index=True)\n",
    "\n",
    "            for i, j in zip(cohortsss, list(range(len(cohortsss)))):\n",
    "                umap_df_concat.replace({i: j}, inplace=True) # replace cohort names with int values\n",
    "\n",
    "            atn_parti = Counter(umap_df_concat['ATN'])\n",
    "            remove_atn = list()\n",
    "\n",
    "            for i in atn_parti:\n",
    "\n",
    "                if atn_parti[i] < 20:\n",
    "                    remove_atn.append(i)\n",
    "\n",
    "            for atn_r in remove_atn:\n",
    "                umap_df_concat = umap_df_concat.loc[umap_df_concat['ATN']!=atn_r]\n",
    "\n",
    "            result_dfs[method] = umap_df_concat.dropna(axis=1)\n",
    "            \n",
    "    else:\n",
    "        \n",
    "        for method in set(cutoffs_.keys()).difference([\"cutoffs_cohort_study\"]):\n",
    "            umap_df = umap_atn_participants(cohort_studies, cohortsss, cutoffs_[method], features_all)\n",
    "            umap_df_concat = pd.concat(norm_df(umap_df, cohortsss), ignore_index=True)\n",
    "\n",
    "            for i, j in zip(cohortsss, list(range(len(cohortsss)))):\n",
    "                umap_df_concat.replace({i: j}, inplace=True)\n",
    "\n",
    "            atn_parti = Counter(umap_df_concat['ATN'])\n",
    "            remove_atn = list()\n",
    "\n",
    "            for i in atn_parti:\n",
    "\n",
    "                if atn_parti[i] < 20:\n",
    "                    remove_atn.append(i)\n",
    "\n",
    "            for atn_r in remove_atn:\n",
    "                umap_df_concat = umap_df_concat.loc[umap_df_concat['ATN']!=atn_r]\n",
    "\n",
    "            result_dfs[method] = umap_df_concat.dropna(axis=1)\n",
    "\n",
    "    return result_dfs"
   ]
  },
  {
   "cell_type": "code",
   "execution_count": 47,
   "metadata": {},
   "outputs": [],
   "source": [
    "# cohorts_vs_method(['ADNI', 'ARWIBO', 'JADNI', 'DOD-ADNI', 'PharmaCog'], ['km_cutoffs'])['km_cutoffs']"
   ]
  },
  {
   "cell_type": "code",
   "execution_count": 48,
   "metadata": {},
   "outputs": [],
   "source": [
    "# adni_epad = cohorts_vs_method(['ADNI', 'EPAD'])"
   ]
  },
  {
   "cell_type": "code",
   "execution_count": 49,
   "metadata": {},
   "outputs": [],
   "source": [
    "# aaep = cohorts_vs_method(['ADNI', 'ARWIBO', 'EPAD', 'PharmaCog'], ['gmm_cutoffs', 'km_cutoffs'])"
   ]
  },
  {
   "cell_type": "code",
   "execution_count": 50,
   "metadata": {},
   "outputs": [],
   "source": [
    "# aanep = cohorts_vs_method(['ADNI', 'ARWIBO', 'NACC', 'EPAD', 'PharmaCog'], ['gmm_cutoffs', 'km_cutoffs'])"
   ]
  },
  {
   "cell_type": "code",
   "execution_count": 51,
   "metadata": {},
   "outputs": [],
   "source": [
    "# aanedp = cohorts_vs_method(['ADNI', 'ARWIBO', 'NACC', 'EPAD', 'DOD-ADNI', 'PharmaCog'], ['gmm_cutoffs', 'km_cutoffs'])"
   ]
  },
  {
   "cell_type": "code",
   "execution_count": 52,
   "metadata": {},
   "outputs": [],
   "source": [
    "# aanejdp = cohorts_vs_method(['ADNI', 'ARWIBO', 'NACC', 'EPAD', 'JADNI', 'DOD-ADNI', 'PharmaCog'], ['gmm_cutoffs', 'km_cutoffs'])"
   ]
  },
  {
   "cell_type": "code",
   "execution_count": 53,
   "metadata": {},
   "outputs": [],
   "source": [
    "# aaejdp_last = cohorts_vs_method(['ADNI', 'ARWIBO', 'EPAD', 'JADNI', 'DOD-ADNI', 'PharmaCog'], ['gmm_cutoffs', 'km_cutoffs'])"
   ]
  },
  {
   "cell_type": "code",
   "execution_count": 54,
   "metadata": {},
   "outputs": [],
   "source": [
    "# aajdp_last_last = cohorts_vs_method(['ADNI', 'ARWIBO', 'JADNI', 'DOD-ADNI', 'PharmaCog'], ['gmm_cutoffs', 'km_cutoffs'])"
   ]
  },
  {
   "cell_type": "code",
   "execution_count": 55,
   "metadata": {},
   "outputs": [],
   "source": [
    "# last_umap_combo = cohorts_vs_method(['ADNI', 'EDSD', 'ARWIBO', 'JADNI', 'DOD-ADNI', 'PharmaCog'], ['gmm_cutoffs', 'km_cutoffs'])"
   ]
  },
  {
   "cell_type": "code",
   "execution_count": 56,
   "metadata": {},
   "outputs": [],
   "source": [
    "seven_cohorts_ = cohorts_vs_method(['ADNI', 'EDSD', 'ARWIBO', 'NACC', 'JADNI', 'DOD-ADNI', 'PharmaCog'], ['gmm_cutoffs', 'km_cutoffs'])"
   ]
  },
  {
   "cell_type": "markdown",
   "metadata": {},
   "source": [
    "#### exclude CSF Volume as it seems wrong in the NACC dataset and that could potentially add bias to our analysis"
   ]
  },
  {
   "cell_type": "code",
   "execution_count": 57,
   "metadata": {},
   "outputs": [],
   "source": [
    "no_csf_vol= dict()\n",
    "\n",
    "for i in seven_cohorts_:\n",
    "    no_csf_vol[i] = seven_cohorts_[i][seven_cohorts_[i].columns[1:]]"
   ]
  },
  {
   "cell_type": "code",
   "execution_count": 58,
   "metadata": {},
   "outputs": [],
   "source": [
    "# cohorts_vs_method(['ADNI', 'EDSD', 'ARWIBO', 'JADNI', 'DOD-ADNI', 'PharmaCog'], ['gmm_cutoffs', 'km_cutoffs'])"
   ]
  },
  {
   "cell_type": "markdown",
   "metadata": {},
   "source": [
    "### end"
   ]
  },
  {
   "cell_type": "code",
   "execution_count": 82,
   "metadata": {},
   "outputs": [],
   "source": [
    "atn_order = ['A-T-N-', 'A-T+N+', 'A+T+N-', 'A+T-N-', 'A+T+N+', 'A+T-N+', 'A-T-N+']\n",
    "\n",
    "def plot_result(dfs_dict, list_cohort):\n",
    "    \"\"\"\"\"\"\n",
    "    \n",
    "    method_names = {'cutoffs_cohort_study': 'Study-suggested', 'gmm_baseline_cutoffs': 'GMM baseline model', \n",
    "     'km_cutoffs': 'K-Means', 'mean_std_cutoffs': 'Mean ± SD', \n",
    "     'roc_cutoffs': 'ROC', 'tertile_cutoffs': 'Tertile', 'gmm_cutoffs': 'GMM'}\n",
    "    \n",
    "    \n",
    "    if len(list_cohort) < 3:\n",
    "        title_cohs = ' and '.join([str(item) for item in list_cohort])\n",
    "            \n",
    "    else:\n",
    "        title_cohs = ', '.join([str(item) for item in list_cohort[:-1]]) + ' and ' + list_cohort[-1]\n",
    "    \n",
    "    \n",
    "    for met in dfs_dict:\n",
    "        df = dfs_dict[met]\n",
    "        fig, axes = plt.subplots(len(df['ATN'].unique()), figsize=(10, 3 * len(df['ATN'].unique())))\n",
    "        \n",
    "        patches = list()\n",
    "        colors = np.array(['#f781bf', '#229ce3', '#ff7f0e', '#24b544', '#7c22e3', '#8c564b', '#ffbb78', '#98df8a', \n",
    "                  '#ff9896', '#c49c94', '#c7c7c7'])\n",
    "        \n",
    "        for n in list_cohort:\n",
    "            patches.append(Line2D([0], [0], color='w', marker='o', markerfacecolor=colors[list_cohort.index(n)], label=n))\n",
    "\n",
    "        for atn_, ind in zip(atn_order, range(len(df['ATN'].unique()))):\n",
    "            embedding = umap.UMAP(n_neighbors=5).fit_transform(df.loc[df['ATN']==atn_][df.columns.difference(['Cohort', 'ATN'])], \n",
    "                    y=df.loc[df['ATN']==atn_]['Cohort'])\n",
    "            \n",
    "#             plt.ylabel(f\"{met}\", loc='center')\n",
    "            \n",
    "#             plt.legend(handles=patches, fontsize=14, ncol=2, markerscale=1.5)\n",
    "\n",
    "            scatter = axes[ind].scatter(*embedding.T, s=40, c=colors[df.loc[df['ATN']==atn_]['Cohort']], cmap='Spectral', alpha=.7, label=list_cohort)\n",
    "            plt.setp(axes[ind], xticks=[], yticks=[])\n",
    "                     \n",
    "            axes[ind].set_title(f'{atn_}', fontsize=15)\n",
    "#             fig.suptitle(f'ATN based comparision among the {title_cohs} cohorts')\n",
    "#             fig.suptitle(f'Coherence of ATN profiles across cohorts', fontsize=20, fontweight='bold')\n",
    "            fig.suptitle(f'{method_names[met]}', fontsize=17, fontweight='bold')\n",
    "\n",
    "            fig.subplots_adjust(top=0.95)\n",
    "#             fig.text(.05,.5, 'SOMETHING', ha='center', va='center', rotation=90, fontstyle='normal')\n",
    "#             fig.supylabel(f\"{method_names[met]}\", fontsize=15)\n",
    "#             plt.savefig(f\"../results/umap/final_plots/{met}_{'_'.join(list_cohort)}_minus20pat.png\", dpi=300, bbox_inches='tight')"
   ]
  },
  {
   "cell_type": "code",
   "execution_count": 83,
   "metadata": {},
   "outputs": [
    {
     "data": {
      "image/png": "[encoded data removed]",
      "text/plain": [
       "<Figure size 720x1512 with 7 Axes>"
      ]
     },
     "metadata": {},
     "output_type": "display_data"
    },
    {
     "data": {
      "image/png": "[encoded data removed]",
      "text/plain": [
       "<Figure size 720x1512 with 7 Axes>"
      ]
     },
     "metadata": {},
     "output_type": "display_data"
    }
   ],
   "source": [
    "plot_result(no_csf_vol, ['ADNI', 'EDSD', 'ARWIBO', 'NACC', 'JADNI', 'DOD-ADNI', 'PharmaCog'])"
   ]
  },
  {
   "cell_type": "markdown",
   "metadata": {},
   "source": [
    "#### Check the number of participants in each cohort"
   ]
  },
  {
   "cell_type": "code",
   "execution_count": 87,
   "metadata": {},
   "outputs": [],
   "source": [
    "gmm_participants_umap = pd.DataFrame.from_dict(Counter(no_csf_vol['gmm_cutoffs']['Cohort']), orient='index')\n",
    "km_participants_umap = pd.DataFrame.from_dict(Counter(no_csf_vol['km_cutoffs']['Cohort']), orient='index')"
   ]
  },
  {
   "cell_type": "code",
   "execution_count": 88,
   "metadata": {},
   "outputs": [
    {
     "name": "stdout",
     "output_type": "stream",
     "text": [
      "ADNI 0\n",
      "EDSD 1\n",
      "ARWIBO 2\n",
      "NACC 3\n",
      "JADNI 4\n",
      "DOD-ADNI 5\n",
      "PharmaCog 6\n"
     ]
    }
   ],
   "source": [
    "cohort_names_7 = ['ADNI', 'EDSD', 'ARWIBO', 'NACC', 'JADNI', 'DOD-ADNI', 'PharmaCog']\n",
    "for i, j in zip(cohort_names_7, range(len(cohort_names_7))):\n",
    "    print(i, j)\n",
    "    gmm_participants_umap.rename(index={j: i}, inplace=True)\n",
    "    km_participants_umap.rename(index={j: i}, inplace=True) "
   ]
  },
  {
   "cell_type": "code",
   "execution_count": 92,
   "metadata": {},
   "outputs": [
    {
     "data": {
      "text/html": [
       "<div>\n",
       "<style scoped>\n",
       "    .dataframe tbody tr th:only-of-type {\n",
       "        vertical-align: middle;\n",
       "    }\n",
       "\n",
       "    .dataframe tbody tr th {\n",
       "        vertical-align: top;\n",
       "    }\n",
       "\n",
       "    .dataframe thead th {\n",
       "        text-align: right;\n",
       "    }\n",
       "</style>\n",
       "<table border=\"1\" class=\"dataframe\">\n",
       "  <thead>\n",
       "    <tr style=\"text-align: right;\">\n",
       "      <th></th>\n",
       "      <th>0</th>\n",
       "    </tr>\n",
       "  </thead>\n",
       "  <tbody>\n",
       "    <tr>\n",
       "      <th>ADNI</th>\n",
       "      <td>589</td>\n",
       "    </tr>\n",
       "    <tr>\n",
       "      <th>EDSD</th>\n",
       "      <td>63</td>\n",
       "    </tr>\n",
       "    <tr>\n",
       "      <th>ARWIBO</th>\n",
       "      <td>80</td>\n",
       "    </tr>\n",
       "    <tr>\n",
       "      <th>NACC</th>\n",
       "      <td>196</td>\n",
       "    </tr>\n",
       "    <tr>\n",
       "      <th>JADNI</th>\n",
       "      <td>187</td>\n",
       "    </tr>\n",
       "    <tr>\n",
       "      <th>DOD-ADNI</th>\n",
       "      <td>70</td>\n",
       "    </tr>\n",
       "    <tr>\n",
       "      <th>PharmaCog</th>\n",
       "      <td>143</td>\n",
       "    </tr>\n",
       "  </tbody>\n",
       "</table>\n",
       "</div>"
      ],
      "text/plain": [
       "             0\n",
       "ADNI       589\n",
       "EDSD        63\n",
       "ARWIBO      80\n",
       "NACC       196\n",
       "JADNI      187\n",
       "DOD-ADNI    70\n",
       "PharmaCog  143"
      ]
     },
     "execution_count": 92,
     "metadata": {},
     "output_type": "execute_result"
    }
   ],
   "source": [
    "gmm_participants_umap"
   ]
  },
  {
   "cell_type": "code",
   "execution_count": 93,
   "metadata": {},
   "outputs": [
    {
     "data": {
      "text/plain": [
       "0    1316\n",
       "dtype: int64"
      ]
     },
     "execution_count": 93,
     "metadata": {},
     "output_type": "execute_result"
    }
   ],
   "source": [
    "km_participants_umap.sum()"
   ]
  },
  {
   "cell_type": "code",
   "execution_count": 106,
   "metadata": {},
   "outputs": [
    {
     "name": "stdout",
     "output_type": "stream",
     "text": [
      "gmm_cutoffs (1328, 109)\n",
      "gmm_cutoffs Counter({0: 589, 3: 196, 4: 187, 6: 143, 2: 80, 5: 70, 1: 63})\n",
      "km_cutoffs (1332, 109)\n",
      "km_cutoffs Counter({0: 591, 3: 196, 4: 187, 6: 143, 2: 81, 5: 70, 1: 64})\n"
     ]
    }
   ],
   "source": [
    "for i in no_csf_vol:\n",
    "    print(i, no_csf_vol[i].shape)\n",
    "    print(i, Counter(no_csf_vol[i]['Cohort']))"
   ]
  },
  {
   "cell_type": "code",
   "execution_count": 104,
   "metadata": {},
   "outputs": [
    {
     "data": {
      "text/plain": [
       "Index(['Cortical White Matter Volume',\n",
       "       'Left Caudal Anterior Cingulate Mean Cortical Thickness',\n",
       "       'Left Caudal Middle Frontal Mean Cortical Thickness',\n",
       "       'Left Cuneus Mean Cortical Thickness',\n",
       "       'Left Fusiform Mean Cortical Thickness', 'Left Hippocampus Volume',\n",
       "       'Left Inferiorparietal Mean Cortical Thickness',\n",
       "       'Left Inferiortemporal Mean Cortical Thickness',\n",
       "       'Left Insula Mean Cortical Thickness',\n",
       "       'Left Isthmus Cingulate Mean Cortical Thickness',\n",
       "       ...\n",
       "       'Right Superior Temporal Gray Matter Volume',\n",
       "       'Right Superior Temporal Mean Cortical Thickness',\n",
       "       'Right Superiorfrontal Mean Cortical Thickness',\n",
       "       'Right Superiorparietal Mean Cortical Thickness',\n",
       "       'Right Supramarginal Gray Matter Volume',\n",
       "       'Right Supramarginal Mean Cortical Thickness',\n",
       "       'Right Transverse Temporal Grey Matter Volume',\n",
       "       'Right Transverse Temporal Mean Cortical Thickness',\n",
       "       'Third Ventricle Volume', 'APOE4_0'],\n",
       "      dtype='object', length=105)"
      ]
     },
     "execution_count": 104,
     "metadata": {},
     "output_type": "execute_result"
    }
   ],
   "source": [
    "no_csf_vol['gmm_cutoffs'].columns[:-4] # number of features included in UMAP"
   ]
  },
  {
   "cell_type": "code",
   "execution_count": 105,
   "metadata": {},
   "outputs": [],
   "source": [
    "pd.DataFrame(no_csf_vol['gmm_cutoffs'].columns).to_csv('../results/umap/final_plots/seven_cohort_features.csv')"
   ]
  },
  {
   "cell_type": "code",
   "execution_count": 79,
   "metadata": {},
   "outputs": [],
   "source": [
    "# aajdp_last_last['km_cutoffs'].columns.difference(set(pd.DataFrame(last_umap_combo['km_cutoffs'].columns)[0]))"
   ]
  },
  {
   "cell_type": "code",
   "execution_count": 80,
   "metadata": {},
   "outputs": [],
   "source": [
    "# pd.DataFrame(last_umap_combo['gmm_cutoffs'].columns).to_csv(\"../results/umap/umap_feature.csv\")"
   ]
  },
  {
   "cell_type": "code",
   "execution_count": 81,
   "metadata": {},
   "outputs": [
    {
     "data": {
      "text/plain": [
       "Counter({0: 591, 1: 64, 2: 81, 3: 196, 4: 187, 5: 70, 6: 143})"
      ]
     },
     "execution_count": 81,
     "metadata": {},
     "output_type": "execute_result"
    }
   ],
   "source": [
    "Counter(seven_cohorts_['km_cutoffs'].Cohort)"
   ]
  },
  {
   "cell_type": "markdown",
   "metadata": {},
   "source": [
    "### Testing"
   ]
  },
  {
   "cell_type": "code",
   "execution_count": 82,
   "metadata": {
    "scrolled": false
   },
   "outputs": [],
   "source": [
    "# features_all[['Feature', 'ADNI', 'ARWIBO', 'JADNI', 'DOD-ADNI', 'PharmaCog']].dropna()['Feature'].to_list()"
   ]
  },
  {
   "cell_type": "code",
   "execution_count": 83,
   "metadata": {
    "scrolled": true
   },
   "outputs": [],
   "source": [
    "# cohort_studies['ADNI'].rename_axis('ID')"
   ]
  },
  {
   "cell_type": "code",
   "execution_count": 84,
   "metadata": {},
   "outputs": [],
   "source": [
    "# cohort_studies_new = dict()\n",
    "# for i in ['ADNI', 'ARWIBO', 'JADNI', 'DOD-ADNI', 'PharmaCog']:\n",
    "#     [cohort_studies[i].rename(columns={col: coln}, inplace=True) for col, coln in \n",
    "#          zip(features_all[[i, 'Feature']].dropna()[i].to_list(), \n",
    "#              features_all[[i, 'Feature']].dropna()['Feature'].to_list())]\n",
    "    \n",
    "#     cohort_studies[i] = cohort_studies[i].rename_axis('ID')\n",
    "    \n",
    "#     cohort_studies_new[i] = cohort_studies[i]"
   ]
  },
  {
   "cell_type": "code",
   "execution_count": 85,
   "metadata": {},
   "outputs": [],
   "source": [
    "# testing_ = pd.concat(cohort_studies_new.values()).dropna(axis=1, thresh=1000)[features_all[['Feature', 'ADNI', 'ARWIBO', 'JADNI', 'DOD-ADNI', 'PharmaCog']].dropna()['Feature'].to_list()].dropna(axis=1, how='all')"
   ]
  },
  {
   "cell_type": "code",
   "execution_count": 86,
   "metadata": {},
   "outputs": [],
   "source": [
    "# testing_.shape"
   ]
  },
  {
   "cell_type": "code",
   "execution_count": 87,
   "metadata": {},
   "outputs": [],
   "source": [
    "# testing_.dropna(axis=1, thresh=1200).dropna(axis=0)"
   ]
  },
  {
   "cell_type": "code",
   "execution_count": 88,
   "metadata": {},
   "outputs": [],
   "source": [
    "# Counter(dict(testing_.isna().sum()).values())"
   ]
  },
  {
   "cell_type": "code",
   "execution_count": 89,
   "metadata": {},
   "outputs": [],
   "source": [
    "\n",
    "# with PdfPages('../results/umap/final_plots/test_hist.pdf') as pdf:\n",
    "#     for i in seven_cohorts_:\n",
    "        \n",
    "#         coh = seven_cohorts_[i].loc[(seven_cohorts_[i]['Cohort']==0) | (seven_cohorts_[i]['Cohort']==3)]\n",
    "#         for each_ATN in coh.ATN.unique():\n",
    "\n",
    "#             for feat in coh.columns[:-5]:\n",
    "#                 fig, axes = plt.subplots(1, 2, figsize=(15,5))\n",
    "\n",
    "#                 axes[0].hist(coh.loc[(coh['Cohort']==0) & (coh['ATN']==each_ATN)][feat])\n",
    "#                 axes[1].hist(coh.loc[(coh['Cohort']==3) & (coh['ATN']==each_ATN)][feat])\n",
    "\n",
    "#                 axes[0].set_title(f\"{feat} in ADNI ({i.split('_')[0].upper()} - {each_ATN})\")\n",
    "#                 axes[1].set_title(f\"{feat} in NACC ({i.split('_')[0].upper()} - {each_ATN})\")\n",
    "\n",
    "#                 fig.get_figure()\n",
    "#                 pdf.savefig(fig)\n",
    "\n",
    "# # fig.savefig(\"../results/umap/final_plots/test_hist.pdf\", bbox_inches='tight')"
   ]
  },
  {
   "cell_type": "code",
   "execution_count": 90,
   "metadata": {},
   "outputs": [],
   "source": [
    "# for i in seven_cohorts_:\n",
    "#     coh = seven_cohorts_[i].loc[(seven_cohorts_[i]['Cohort']==0) | (seven_cohorts_[i]['Cohort']==3)]\n",
    "    \n",
    "#     for each_ATN in coh.ATN.unique():\n",
    "#         print(len(coh.loc[(coh['Cohort']==0) & (coh['ATN']==each_ATN)])!=0)\n",
    "        \n",
    "#         if len(coh.loc[(coh['Cohort']==0) & (coh['ATN']==each_ATN)])!=0 and len(coh.loc[(coh['Cohort']==3) & (coh['ATN']==each_ATN)])!=0:\n",
    "#             print('yes')\n",
    "        \n",
    "#             with PdfPages(f'../results/umap/final_plots/hist_{each_ATN}_{i}.pdf') as pdf:\n",
    "\n",
    "#                 for feat in coh.columns[:-5]:\n",
    "#                     fig = plt.figure()\n",
    "#                     sns.histplot(coh.loc[coh['ATN']==each_ATN], x=feat, hue='Cohort')\n",
    "#                     plt.title(f\"{feat} using {i.split('_')[0].upper()} method for {each_ATN} \")\n",
    "\n",
    "\n",
    "#                     fig.get_figure()\n",
    "#                     pdf.savefig(fig)\n"
   ]
  }
 ],
 "metadata": {
  "kernelspec": {
   "display_name": "Python 3",
   "language": "python",
   "name": "python3"
  },
  "language_info": {
   "codemirror_mode": {
    "name": "ipython",
    "version": 3
   },
   "file_extension": ".py",
   "mimetype": "text/x-python",
   "name": "python",
   "nbconvert_exporter": "python",
   "pygments_lexer": "ipython3",
   "version": "3.9.9"
  }
 },
 "nbformat": 4,
 "nbformat_minor": 4
}
